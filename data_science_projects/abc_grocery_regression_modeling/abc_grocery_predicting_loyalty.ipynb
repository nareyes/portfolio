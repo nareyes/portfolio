{
 "cells": [
  {
   "cell_type": "markdown",
   "metadata": {},
   "source": [
    "# Regression Modeling to Predict Loyalty Scores\n",
    "In this project, we apply regression modeling to predict the loyalty scores for customers missing loyalty scores.\n",
    "Only 50% of the customer data contains loyalty information, which we will use to predict the loyalty scores of\n",
    "the remaining customers. \n",
    "_________\n",
    "\n",
    "## Table of Contents\n",
    "- Data Overview\n",
    "- Data Preparation\n",
    "- Modeling Overview\n",
    "- Applying Linear Regression Modeling\n",
    "- Applying Decision Tree Modeling\n",
    "- Applying Random Forest Modeling\n",
    "- Analyzing the Results\n",
    "_________\n",
    "\n",
    "## Date Overview\n",
    "We will be predicting the *loyalty_score* metric.  This metric exists (for half of the customer base) in the *loyalty_scores* table of the client database.\n",
    "\n",
    "The key variables hypothesised to predict the missing loyalty scores will come from the client database, namely the *transactions* table, the *customer_details* table, and the *product_areas* table.\n",
    "\n",
    "Using pandas in Python, we merged these tables together for all customers, creating a single dataset that we can use for modelling."
   ]
  },
  {
   "cell_type": "code",
   "execution_count": 1,
   "metadata": {},
   "outputs": [],
   "source": [
    "# import libraries\n",
    "import pickle\n",
    "import pandas as pd\n",
    "import matplotlib.pyplot as plt"
   ]
  },
  {
   "cell_type": "code",
   "execution_count": 2,
   "metadata": {},
   "outputs": [
    {
     "data": {
      "text/html": [
       "<div>\n",
       "<style scoped>\n",
       "    .dataframe tbody tr th:only-of-type {\n",
       "        vertical-align: middle;\n",
       "    }\n",
       "\n",
       "    .dataframe tbody tr th {\n",
       "        vertical-align: top;\n",
       "    }\n",
       "\n",
       "    .dataframe thead th {\n",
       "        text-align: right;\n",
       "    }\n",
       "</style>\n",
       "<table border=\"1\" class=\"dataframe\">\n",
       "  <thead>\n",
       "    <tr style=\"text-align: right;\">\n",
       "      <th></th>\n",
       "      <th>customer_id</th>\n",
       "      <th>distance_from_store</th>\n",
       "      <th>gender</th>\n",
       "      <th>credit_score</th>\n",
       "      <th>customer_loyalty_score</th>\n",
       "    </tr>\n",
       "  </thead>\n",
       "  <tbody>\n",
       "    <tr>\n",
       "      <th>0</th>\n",
       "      <td>74</td>\n",
       "      <td>3.38</td>\n",
       "      <td>F</td>\n",
       "      <td>0.59</td>\n",
       "      <td>0.263</td>\n",
       "    </tr>\n",
       "    <tr>\n",
       "      <th>1</th>\n",
       "      <td>524</td>\n",
       "      <td>4.76</td>\n",
       "      <td>F</td>\n",
       "      <td>0.52</td>\n",
       "      <td>0.298</td>\n",
       "    </tr>\n",
       "    <tr>\n",
       "      <th>2</th>\n",
       "      <td>607</td>\n",
       "      <td>4.45</td>\n",
       "      <td>F</td>\n",
       "      <td>0.49</td>\n",
       "      <td>0.337</td>\n",
       "    </tr>\n",
       "    <tr>\n",
       "      <th>3</th>\n",
       "      <td>343</td>\n",
       "      <td>0.91</td>\n",
       "      <td>M</td>\n",
       "      <td>0.54</td>\n",
       "      <td>0.873</td>\n",
       "    </tr>\n",
       "    <tr>\n",
       "      <th>4</th>\n",
       "      <td>322</td>\n",
       "      <td>3.02</td>\n",
       "      <td>F</td>\n",
       "      <td>0.63</td>\n",
       "      <td>0.350</td>\n",
       "    </tr>\n",
       "  </tbody>\n",
       "</table>\n",
       "</div>"
      ],
      "text/plain": [
       "   customer_id  distance_from_store gender  credit_score  \\\n",
       "0           74                 3.38      F          0.59   \n",
       "1          524                 4.76      F          0.52   \n",
       "2          607                 4.45      F          0.49   \n",
       "3          343                 0.91      M          0.54   \n",
       "4          322                 3.02      F          0.63   \n",
       "\n",
       "   customer_loyalty_score  \n",
       "0                   0.263  \n",
       "1                   0.298  \n",
       "2                   0.337  \n",
       "3                   0.873  \n",
       "4                   0.350  "
      ]
     },
     "execution_count": 2,
     "metadata": {},
     "output_type": "execute_result"
    }
   ],
   "source": [
    "# import data\n",
    "loyalty_scores = pd.read_excel(\"data/grocery_database.xlsx\", sheet_name = 'loyalty_scores')\n",
    "customer_details = pd.read_excel(\"data/grocery_database.xlsx\", sheet_name = 'customer_details')\n",
    "transactions = pd.read_excel(\"data/grocery_database.xlsx\", sheet_name = 'transactions')\n",
    "\n",
    "# merge loyalty score data and customer details data, at customer level\n",
    "data_for_regression = pd.merge(customer_details, loyalty_scores, how = \"left\", on = \"customer_id\")\n",
    "\n",
    "data_for_regression.head()"
   ]
  },
  {
   "cell_type": "code",
   "execution_count": 3,
   "metadata": {},
   "outputs": [
    {
     "data": {
      "text/html": [
       "<div>\n",
       "<style scoped>\n",
       "    .dataframe tbody tr th:only-of-type {\n",
       "        vertical-align: middle;\n",
       "    }\n",
       "\n",
       "    .dataframe tbody tr th {\n",
       "        vertical-align: top;\n",
       "    }\n",
       "\n",
       "    .dataframe thead th {\n",
       "        text-align: right;\n",
       "    }\n",
       "</style>\n",
       "<table border=\"1\" class=\"dataframe\">\n",
       "  <thead>\n",
       "    <tr style=\"text-align: right;\">\n",
       "      <th></th>\n",
       "      <th>customer_id</th>\n",
       "      <th>sales_cost</th>\n",
       "      <th>num_items</th>\n",
       "      <th>transaction_id</th>\n",
       "      <th>product_area_id</th>\n",
       "    </tr>\n",
       "  </thead>\n",
       "  <tbody>\n",
       "    <tr>\n",
       "      <th>0</th>\n",
       "      <td>1</td>\n",
       "      <td>3980.49</td>\n",
       "      <td>424</td>\n",
       "      <td>51</td>\n",
       "      <td>5</td>\n",
       "    </tr>\n",
       "    <tr>\n",
       "      <th>1</th>\n",
       "      <td>2</td>\n",
       "      <td>2056.91</td>\n",
       "      <td>213</td>\n",
       "      <td>52</td>\n",
       "      <td>5</td>\n",
       "    </tr>\n",
       "    <tr>\n",
       "      <th>2</th>\n",
       "      <td>3</td>\n",
       "      <td>324.22</td>\n",
       "      <td>65</td>\n",
       "      <td>12</td>\n",
       "      <td>4</td>\n",
       "    </tr>\n",
       "    <tr>\n",
       "      <th>3</th>\n",
       "      <td>4</td>\n",
       "      <td>3499.39</td>\n",
       "      <td>278</td>\n",
       "      <td>47</td>\n",
       "      <td>5</td>\n",
       "    </tr>\n",
       "    <tr>\n",
       "      <th>4</th>\n",
       "      <td>5</td>\n",
       "      <td>6609.19</td>\n",
       "      <td>987</td>\n",
       "      <td>106</td>\n",
       "      <td>5</td>\n",
       "    </tr>\n",
       "  </tbody>\n",
       "</table>\n",
       "</div>"
      ],
      "text/plain": [
       "   customer_id  sales_cost  num_items  transaction_id  product_area_id\n",
       "0            1     3980.49        424              51                5\n",
       "1            2     2056.91        213              52                5\n",
       "2            3      324.22         65              12                4\n",
       "3            4     3499.39        278              47                5\n",
       "4            5     6609.19        987             106                5"
      ]
     },
     "execution_count": 3,
     "metadata": {},
     "output_type": "execute_result"
    }
   ],
   "source": [
    "# aggregate sales data from transactions table\n",
    "sales_summary = transactions.groupby('customer_id').agg({\n",
    "    'sales_cost': 'sum',\n",
    "    'num_items': 'sum',\n",
    "    'transaction_id': 'count',\n",
    "    'product_area_id': 'nunique'\n",
    "}).reset_index()\n",
    "\n",
    "sales_summary.head()"
   ]
  },
  {
   "cell_type": "markdown",
   "metadata": {},
   "source": [
    "## Data Preparation"
   ]
  },
  {
   "cell_type": "code",
   "execution_count": 4,
   "metadata": {},
   "outputs": [
    {
     "data": {
      "text/html": [
       "<div>\n",
       "<style scoped>\n",
       "    .dataframe tbody tr th:only-of-type {\n",
       "        vertical-align: middle;\n",
       "    }\n",
       "\n",
       "    .dataframe tbody tr th {\n",
       "        vertical-align: top;\n",
       "    }\n",
       "\n",
       "    .dataframe thead th {\n",
       "        text-align: right;\n",
       "    }\n",
       "</style>\n",
       "<table border=\"1\" class=\"dataframe\">\n",
       "  <thead>\n",
       "    <tr style=\"text-align: right;\">\n",
       "      <th></th>\n",
       "      <th>customer_id</th>\n",
       "      <th>distance_from_store</th>\n",
       "      <th>gender</th>\n",
       "      <th>credit_score</th>\n",
       "      <th>customer_loyalty_score</th>\n",
       "      <th>total_sales</th>\n",
       "      <th>total_items</th>\n",
       "      <th>transaction_count</th>\n",
       "      <th>product_area_count</th>\n",
       "      <th>average_basket_value</th>\n",
       "    </tr>\n",
       "  </thead>\n",
       "  <tbody>\n",
       "    <tr>\n",
       "      <th>0</th>\n",
       "      <td>74</td>\n",
       "      <td>3.38</td>\n",
       "      <td>F</td>\n",
       "      <td>0.59</td>\n",
       "      <td>0.263</td>\n",
       "      <td>2563.71</td>\n",
       "      <td>297</td>\n",
       "      <td>44</td>\n",
       "      <td>5</td>\n",
       "      <td>58.266136</td>\n",
       "    </tr>\n",
       "    <tr>\n",
       "      <th>1</th>\n",
       "      <td>524</td>\n",
       "      <td>4.76</td>\n",
       "      <td>F</td>\n",
       "      <td>0.52</td>\n",
       "      <td>0.298</td>\n",
       "      <td>2996.02</td>\n",
       "      <td>357</td>\n",
       "      <td>49</td>\n",
       "      <td>5</td>\n",
       "      <td>61.143265</td>\n",
       "    </tr>\n",
       "    <tr>\n",
       "      <th>2</th>\n",
       "      <td>607</td>\n",
       "      <td>4.45</td>\n",
       "      <td>F</td>\n",
       "      <td>0.49</td>\n",
       "      <td>0.337</td>\n",
       "      <td>2853.82</td>\n",
       "      <td>350</td>\n",
       "      <td>49</td>\n",
       "      <td>5</td>\n",
       "      <td>58.241224</td>\n",
       "    </tr>\n",
       "    <tr>\n",
       "      <th>3</th>\n",
       "      <td>343</td>\n",
       "      <td>0.91</td>\n",
       "      <td>M</td>\n",
       "      <td>0.54</td>\n",
       "      <td>0.873</td>\n",
       "      <td>2388.31</td>\n",
       "      <td>272</td>\n",
       "      <td>54</td>\n",
       "      <td>5</td>\n",
       "      <td>44.227963</td>\n",
       "    </tr>\n",
       "    <tr>\n",
       "      <th>4</th>\n",
       "      <td>322</td>\n",
       "      <td>3.02</td>\n",
       "      <td>F</td>\n",
       "      <td>0.63</td>\n",
       "      <td>0.350</td>\n",
       "      <td>2401.64</td>\n",
       "      <td>278</td>\n",
       "      <td>50</td>\n",
       "      <td>5</td>\n",
       "      <td>48.032800</td>\n",
       "    </tr>\n",
       "  </tbody>\n",
       "</table>\n",
       "</div>"
      ],
      "text/plain": [
       "   customer_id  distance_from_store gender  credit_score  \\\n",
       "0           74                 3.38      F          0.59   \n",
       "1          524                 4.76      F          0.52   \n",
       "2          607                 4.45      F          0.49   \n",
       "3          343                 0.91      M          0.54   \n",
       "4          322                 3.02      F          0.63   \n",
       "\n",
       "   customer_loyalty_score  total_sales  total_items  transaction_count  \\\n",
       "0                   0.263      2563.71          297                 44   \n",
       "1                   0.298      2996.02          357                 49   \n",
       "2                   0.337      2853.82          350                 49   \n",
       "3                   0.873      2388.31          272                 54   \n",
       "4                   0.350      2401.64          278                 50   \n",
       "\n",
       "   product_area_count  average_basket_value  \n",
       "0                   5             58.266136  \n",
       "1                   5             61.143265  \n",
       "2                   5             58.241224  \n",
       "3                   5             44.227963  \n",
       "4                   5             48.032800  "
      ]
     },
     "execution_count": 4,
     "metadata": {},
     "output_type": "execute_result"
    }
   ],
   "source": [
    "# rename columns for clarity\n",
    "sales_summary.columns = [\n",
    "    'customer_id',\n",
    "    'total_sales',\n",
    "    'total_items',\n",
    "    'transaction_count',\n",
    "    'product_area_count'\n",
    "]\n",
    "\n",
    "# engineer an average basket value for each customer\n",
    "sales_summary['average_basket_value'] = sales_summary['total_sales'] / sales_summary['transaction_count']\n",
    "\n",
    "# merge the sales summary with overall customer data\n",
    "data_for_regression = pd.merge(data_for_regression, sales_summary, how = 'inner', on = 'customer_id')\n",
    "\n",
    "data_for_regression.head(n = 5)"
   ]
  },
  {
   "cell_type": "code",
   "execution_count": 5,
   "metadata": {},
   "outputs": [],
   "source": [
    "# split out data for modeling (loyalty score present)\n",
    "regression_modeling = data_for_regression.loc[data_for_regression['customer_loyalty_score'].notna()]\n",
    "\n",
    "# split out data for scoring post-modelling (loyalty score is missing)\n",
    "# drop the loyalty score column (as it is blank/redundant)\n",
    "regression_scoring = data_for_regression.loc[data_for_regression['customer_loyalty_score'].isna()]\n",
    "regression_scoring = regression_scoring.drop([\"customer_loyalty_score\"], axis = 1)"
   ]
  },
  {
   "cell_type": "code",
   "execution_count": 6,
   "metadata": {},
   "outputs": [],
   "source": [
    "# save our datasets for future use\n",
    "pickle.dump(regression_modeling, open(\"data/customer_loyalty_modelling.p\", \"wb\"))\n",
    "pickle.dump(regression_scoring, open(\"data/customer_loyalty_scoring.p\", \"wb\"))"
   ]
  },
  {
   "cell_type": "code",
   "execution_count": 7,
   "metadata": {},
   "outputs": [
    {
     "data": {
      "text/html": [
       "<div>\n",
       "<style scoped>\n",
       "    .dataframe tbody tr th:only-of-type {\n",
       "        vertical-align: middle;\n",
       "    }\n",
       "\n",
       "    .dataframe tbody tr th {\n",
       "        vertical-align: top;\n",
       "    }\n",
       "\n",
       "    .dataframe thead th {\n",
       "        text-align: right;\n",
       "    }\n",
       "</style>\n",
       "<table border=\"1\" class=\"dataframe\">\n",
       "  <thead>\n",
       "    <tr style=\"text-align: right;\">\n",
       "      <th></th>\n",
       "      <th>customer_id</th>\n",
       "      <th>distance_from_store</th>\n",
       "      <th>gender</th>\n",
       "      <th>credit_score</th>\n",
       "      <th>customer_loyalty_score</th>\n",
       "      <th>total_sales</th>\n",
       "      <th>total_items</th>\n",
       "      <th>transaction_count</th>\n",
       "      <th>product_area_count</th>\n",
       "      <th>average_basket_value</th>\n",
       "    </tr>\n",
       "  </thead>\n",
       "  <tbody>\n",
       "    <tr>\n",
       "      <th>0</th>\n",
       "      <td>74</td>\n",
       "      <td>3.38</td>\n",
       "      <td>F</td>\n",
       "      <td>0.59</td>\n",
       "      <td>0.263</td>\n",
       "      <td>2563.71</td>\n",
       "      <td>297</td>\n",
       "      <td>44</td>\n",
       "      <td>5</td>\n",
       "      <td>58.266136</td>\n",
       "    </tr>\n",
       "    <tr>\n",
       "      <th>1</th>\n",
       "      <td>524</td>\n",
       "      <td>4.76</td>\n",
       "      <td>F</td>\n",
       "      <td>0.52</td>\n",
       "      <td>0.298</td>\n",
       "      <td>2996.02</td>\n",
       "      <td>357</td>\n",
       "      <td>49</td>\n",
       "      <td>5</td>\n",
       "      <td>61.143265</td>\n",
       "    </tr>\n",
       "    <tr>\n",
       "      <th>2</th>\n",
       "      <td>607</td>\n",
       "      <td>4.45</td>\n",
       "      <td>F</td>\n",
       "      <td>0.49</td>\n",
       "      <td>0.337</td>\n",
       "      <td>2853.82</td>\n",
       "      <td>350</td>\n",
       "      <td>49</td>\n",
       "      <td>5</td>\n",
       "      <td>58.241224</td>\n",
       "    </tr>\n",
       "    <tr>\n",
       "      <th>3</th>\n",
       "      <td>343</td>\n",
       "      <td>0.91</td>\n",
       "      <td>M</td>\n",
       "      <td>0.54</td>\n",
       "      <td>0.873</td>\n",
       "      <td>2388.31</td>\n",
       "      <td>272</td>\n",
       "      <td>54</td>\n",
       "      <td>5</td>\n",
       "      <td>44.227963</td>\n",
       "    </tr>\n",
       "    <tr>\n",
       "      <th>4</th>\n",
       "      <td>322</td>\n",
       "      <td>3.02</td>\n",
       "      <td>F</td>\n",
       "      <td>0.63</td>\n",
       "      <td>0.350</td>\n",
       "      <td>2401.64</td>\n",
       "      <td>278</td>\n",
       "      <td>50</td>\n",
       "      <td>5</td>\n",
       "      <td>48.032800</td>\n",
       "    </tr>\n",
       "  </tbody>\n",
       "</table>\n",
       "</div>"
      ],
      "text/plain": [
       "   customer_id  distance_from_store gender  credit_score  \\\n",
       "0           74                 3.38      F          0.59   \n",
       "1          524                 4.76      F          0.52   \n",
       "2          607                 4.45      F          0.49   \n",
       "3          343                 0.91      M          0.54   \n",
       "4          322                 3.02      F          0.63   \n",
       "\n",
       "   customer_loyalty_score  total_sales  total_items  transaction_count  \\\n",
       "0                   0.263      2563.71          297                 44   \n",
       "1                   0.298      2996.02          357                 49   \n",
       "2                   0.337      2853.82          350                 49   \n",
       "3                   0.873      2388.31          272                 54   \n",
       "4                   0.350      2401.64          278                 50   \n",
       "\n",
       "   product_area_count  average_basket_value  \n",
       "0                   5             58.266136  \n",
       "1                   5             61.143265  \n",
       "2                   5             58.241224  \n",
       "3                   5             44.227963  \n",
       "4                   5             48.032800  "
      ]
     },
     "execution_count": 7,
     "metadata": {},
     "output_type": "execute_result"
    }
   ],
   "source": [
    "# display regression modeling data\n",
    "regression_modeling.head()"
   ]
  },
  {
   "cell_type": "code",
   "execution_count": 8,
   "metadata": {},
   "outputs": [
    {
     "data": {
      "text/html": [
       "<div>\n",
       "<style scoped>\n",
       "    .dataframe tbody tr th:only-of-type {\n",
       "        vertical-align: middle;\n",
       "    }\n",
       "\n",
       "    .dataframe tbody tr th {\n",
       "        vertical-align: top;\n",
       "    }\n",
       "\n",
       "    .dataframe thead th {\n",
       "        text-align: right;\n",
       "    }\n",
       "</style>\n",
       "<table border=\"1\" class=\"dataframe\">\n",
       "  <thead>\n",
       "    <tr style=\"text-align: right;\">\n",
       "      <th></th>\n",
       "      <th>customer_id</th>\n",
       "      <th>distance_from_store</th>\n",
       "      <th>gender</th>\n",
       "      <th>credit_score</th>\n",
       "      <th>total_sales</th>\n",
       "      <th>total_items</th>\n",
       "      <th>transaction_count</th>\n",
       "      <th>product_area_count</th>\n",
       "      <th>average_basket_value</th>\n",
       "    </tr>\n",
       "  </thead>\n",
       "  <tbody>\n",
       "    <tr>\n",
       "      <th>6</th>\n",
       "      <td>1</td>\n",
       "      <td>4.78</td>\n",
       "      <td>F</td>\n",
       "      <td>0.66</td>\n",
       "      <td>3980.49</td>\n",
       "      <td>424</td>\n",
       "      <td>51</td>\n",
       "      <td>5</td>\n",
       "      <td>78.048824</td>\n",
       "    </tr>\n",
       "    <tr>\n",
       "      <th>7</th>\n",
       "      <td>120</td>\n",
       "      <td>3.49</td>\n",
       "      <td>F</td>\n",
       "      <td>0.38</td>\n",
       "      <td>2887.20</td>\n",
       "      <td>253</td>\n",
       "      <td>45</td>\n",
       "      <td>5</td>\n",
       "      <td>64.160000</td>\n",
       "    </tr>\n",
       "    <tr>\n",
       "      <th>8</th>\n",
       "      <td>52</td>\n",
       "      <td>14.91</td>\n",
       "      <td>F</td>\n",
       "      <td>0.68</td>\n",
       "      <td>3342.75</td>\n",
       "      <td>335</td>\n",
       "      <td>47</td>\n",
       "      <td>5</td>\n",
       "      <td>71.122340</td>\n",
       "    </tr>\n",
       "    <tr>\n",
       "      <th>10</th>\n",
       "      <td>435</td>\n",
       "      <td>0.25</td>\n",
       "      <td>M</td>\n",
       "      <td>0.62</td>\n",
       "      <td>2326.71</td>\n",
       "      <td>267</td>\n",
       "      <td>48</td>\n",
       "      <td>5</td>\n",
       "      <td>48.473125</td>\n",
       "    </tr>\n",
       "    <tr>\n",
       "      <th>12</th>\n",
       "      <td>679</td>\n",
       "      <td>4.74</td>\n",
       "      <td>F</td>\n",
       "      <td>0.58</td>\n",
       "      <td>3448.59</td>\n",
       "      <td>370</td>\n",
       "      <td>49</td>\n",
       "      <td>5</td>\n",
       "      <td>70.379388</td>\n",
       "    </tr>\n",
       "  </tbody>\n",
       "</table>\n",
       "</div>"
      ],
      "text/plain": [
       "    customer_id  distance_from_store gender  credit_score  total_sales  \\\n",
       "6             1                 4.78      F          0.66      3980.49   \n",
       "7           120                 3.49      F          0.38      2887.20   \n",
       "8            52                14.91      F          0.68      3342.75   \n",
       "10          435                 0.25      M          0.62      2326.71   \n",
       "12          679                 4.74      F          0.58      3448.59   \n",
       "\n",
       "    total_items  transaction_count  product_area_count  average_basket_value  \n",
       "6           424                 51                   5             78.048824  \n",
       "7           253                 45                   5             64.160000  \n",
       "8           335                 47                   5             71.122340  \n",
       "10          267                 48                   5             48.473125  \n",
       "12          370                 49                   5             70.379388  "
      ]
     },
     "execution_count": 8,
     "metadata": {},
     "output_type": "execute_result"
    }
   ],
   "source": [
    "# display regression scoring data\n",
    "regression_scoring.head()"
   ]
  },
  {
   "cell_type": "markdown",
   "metadata": {},
   "source": [
    "## Modeling Overview\n",
    "We will build a model that looks to accurately predict the “loyalty_score” metric for those customers that were able to be tagged, based upon the customer metrics listed above.\n",
    "\n",
    "If that can be achieved, we can use this model to predict the customer loyalty score for the customers that were unable to be tagged by the agency.\n",
    "\n",
    "As we are predicting a numeric output, we tested three regression modelling approaches;\n",
    "- Linear Regression\n",
    "- Decision Tree\n",
    "- Random Forest"
   ]
  },
  {
   "cell_type": "markdown",
   "metadata": {},
   "source": [
    "## Linear Regression\n",
    "We utlise the scikit-learn library within Python to model our data using Linear Regression. The code sections below are broken up into 4 key sections:\n",
    "\n",
    "- Data Import\n",
    "- Data Preprocessing\n",
    "- Model Training\n",
    "- Performance Assessment"
   ]
  },
  {
   "cell_type": "markdown",
   "metadata": {},
   "source": [
    "### Data Import"
   ]
  },
  {
   "cell_type": "code",
   "execution_count": 9,
   "metadata": {},
   "outputs": [],
   "source": [
    "# import libraries\n",
    "from sklearn.linear_model import LinearRegression\n",
    "from sklearn.utils import shuffle\n",
    "from sklearn.model_selection import train_test_split, cross_val_score, KFold\n",
    "from sklearn.metrics import r2_score\n",
    "from sklearn.preprocessing import OneHotEncoder\n",
    "from sklearn.feature_selection import RFECV"
   ]
  },
  {
   "cell_type": "code",
   "execution_count": 10,
   "metadata": {},
   "outputs": [
    {
     "data": {
      "text/html": [
       "<div>\n",
       "<style scoped>\n",
       "    .dataframe tbody tr th:only-of-type {\n",
       "        vertical-align: middle;\n",
       "    }\n",
       "\n",
       "    .dataframe tbody tr th {\n",
       "        vertical-align: top;\n",
       "    }\n",
       "\n",
       "    .dataframe thead th {\n",
       "        text-align: right;\n",
       "    }\n",
       "</style>\n",
       "<table border=\"1\" class=\"dataframe\">\n",
       "  <thead>\n",
       "    <tr style=\"text-align: right;\">\n",
       "      <th></th>\n",
       "      <th>distance_from_store</th>\n",
       "      <th>gender</th>\n",
       "      <th>credit_score</th>\n",
       "      <th>customer_loyalty_score</th>\n",
       "      <th>total_sales</th>\n",
       "      <th>total_items</th>\n",
       "      <th>transaction_count</th>\n",
       "      <th>product_area_count</th>\n",
       "      <th>average_basket_value</th>\n",
       "    </tr>\n",
       "  </thead>\n",
       "  <tbody>\n",
       "    <tr>\n",
       "      <th>66</th>\n",
       "      <td>1.82</td>\n",
       "      <td>F</td>\n",
       "      <td>0.62</td>\n",
       "      <td>0.768</td>\n",
       "      <td>1883.16</td>\n",
       "      <td>309</td>\n",
       "      <td>54</td>\n",
       "      <td>5</td>\n",
       "      <td>34.873333</td>\n",
       "    </tr>\n",
       "    <tr>\n",
       "      <th>35</th>\n",
       "      <td>44.37</td>\n",
       "      <td>F</td>\n",
       "      <td>0.55</td>\n",
       "      <td>0.268</td>\n",
       "      <td>2934.80</td>\n",
       "      <td>320</td>\n",
       "      <td>47</td>\n",
       "      <td>5</td>\n",
       "      <td>62.442553</td>\n",
       "    </tr>\n",
       "    <tr>\n",
       "      <th>358</th>\n",
       "      <td>0.71</td>\n",
       "      <td>M</td>\n",
       "      <td>0.75</td>\n",
       "      <td>0.598</td>\n",
       "      <td>1398.17</td>\n",
       "      <td>281</td>\n",
       "      <td>47</td>\n",
       "      <td>3</td>\n",
       "      <td>29.748298</td>\n",
       "    </tr>\n",
       "    <tr>\n",
       "      <th>386</th>\n",
       "      <td>2.30</td>\n",
       "      <td>F</td>\n",
       "      <td>0.49</td>\n",
       "      <td>0.209</td>\n",
       "      <td>1519.50</td>\n",
       "      <td>278</td>\n",
       "      <td>48</td>\n",
       "      <td>3</td>\n",
       "      <td>31.656250</td>\n",
       "    </tr>\n",
       "    <tr>\n",
       "      <th>736</th>\n",
       "      <td>2.98</td>\n",
       "      <td>F</td>\n",
       "      <td>0.43</td>\n",
       "      <td>0.112</td>\n",
       "      <td>361.78</td>\n",
       "      <td>66</td>\n",
       "      <td>12</td>\n",
       "      <td>4</td>\n",
       "      <td>30.148333</td>\n",
       "    </tr>\n",
       "  </tbody>\n",
       "</table>\n",
       "</div>"
      ],
      "text/plain": [
       "     distance_from_store gender  credit_score  customer_loyalty_score  \\\n",
       "66                  1.82      F          0.62                   0.768   \n",
       "35                 44.37      F          0.55                   0.268   \n",
       "358                 0.71      M          0.75                   0.598   \n",
       "386                 2.30      F          0.49                   0.209   \n",
       "736                 2.98      F          0.43                   0.112   \n",
       "\n",
       "     total_sales  total_items  transaction_count  product_area_count  \\\n",
       "66       1883.16          309                 54                   5   \n",
       "35       2934.80          320                 47                   5   \n",
       "358      1398.17          281                 47                   3   \n",
       "386      1519.50          278                 48                   3   \n",
       "736       361.78           66                 12                   4   \n",
       "\n",
       "     average_basket_value  \n",
       "66              34.873333  \n",
       "35              62.442553  \n",
       "358             29.748298  \n",
       "386             31.656250  \n",
       "736             30.148333  "
      ]
     },
     "execution_count": 10,
     "metadata": {},
     "output_type": "execute_result"
    }
   ],
   "source": [
    "# import modelling data\n",
    "data_for_model = pickle.load(open(\"data/customer_loyalty_modelling.p\", \"rb\"))\n",
    "\n",
    "# drop uneccessary columns\n",
    "data_for_model = data_for_model.drop(\"customer_id\", axis = 1)\n",
    "\n",
    "# shuffle data\n",
    "data_for_model = shuffle(data_for_model)\n",
    "\n",
    "data_for_model.head()"
   ]
  },
  {
   "cell_type": "markdown",
   "metadata": {},
   "source": [
    "### Data Preprocessing\n",
    "For Linear Regression we have certain data preprocessing steps that need to be addressed, including;\n",
    "- Missing Values\n",
    "- Outliers\n",
    "- Encoding Categorical Variables\n",
    "- Multicollinearity & Feature Selection"
   ]
  },
  {
   "cell_type": "code",
   "execution_count": 11,
   "metadata": {},
   "outputs": [
    {
     "name": "stdout",
     "output_type": "stream",
     "text": [
      "distance_from_store       2\n",
      "gender                    3\n",
      "credit_score              2\n",
      "customer_loyalty_score    0\n",
      "total_sales               0\n",
      "total_items               0\n",
      "transaction_count         0\n",
      "product_area_count        0\n",
      "average_basket_value      0\n",
      "dtype: int64\n"
     ]
    }
   ],
   "source": [
    "# deal with missing value\n",
    "print(data_for_model.isna().sum())\n",
    "data_for_model = data_for_model.dropna(how = 'any') # we don't need to use imputer in this case since we have a very small amount of na records"
   ]
  },
  {
   "cell_type": "code",
   "execution_count": 12,
   "metadata": {},
   "outputs": [
    {
     "data": {
      "text/html": [
       "<div>\n",
       "<style scoped>\n",
       "    .dataframe tbody tr th:only-of-type {\n",
       "        vertical-align: middle;\n",
       "    }\n",
       "\n",
       "    .dataframe tbody tr th {\n",
       "        vertical-align: top;\n",
       "    }\n",
       "\n",
       "    .dataframe thead th {\n",
       "        text-align: right;\n",
       "    }\n",
       "</style>\n",
       "<table border=\"1\" class=\"dataframe\">\n",
       "  <thead>\n",
       "    <tr style=\"text-align: right;\">\n",
       "      <th></th>\n",
       "      <th>distance_from_store</th>\n",
       "      <th>credit_score</th>\n",
       "      <th>customer_loyalty_score</th>\n",
       "      <th>total_sales</th>\n",
       "      <th>total_items</th>\n",
       "      <th>transaction_count</th>\n",
       "      <th>product_area_count</th>\n",
       "      <th>average_basket_value</th>\n",
       "    </tr>\n",
       "  </thead>\n",
       "  <tbody>\n",
       "    <tr>\n",
       "      <th>count</th>\n",
       "      <td>394.000000</td>\n",
       "      <td>394.000000</td>\n",
       "      <td>394.000000</td>\n",
       "      <td>394.000000</td>\n",
       "      <td>394.000000</td>\n",
       "      <td>394.000000</td>\n",
       "      <td>394.000000</td>\n",
       "      <td>394.000000</td>\n",
       "    </tr>\n",
       "    <tr>\n",
       "      <th>mean</th>\n",
       "      <td>2.021041</td>\n",
       "      <td>0.596117</td>\n",
       "      <td>0.509589</td>\n",
       "      <td>1846.502538</td>\n",
       "      <td>278.304569</td>\n",
       "      <td>44.926396</td>\n",
       "      <td>4.312183</td>\n",
       "      <td>36.781487</td>\n",
       "    </tr>\n",
       "    <tr>\n",
       "      <th>std</th>\n",
       "      <td>2.566045</td>\n",
       "      <td>0.101352</td>\n",
       "      <td>0.294504</td>\n",
       "      <td>1767.829482</td>\n",
       "      <td>214.236424</td>\n",
       "      <td>21.248012</td>\n",
       "      <td>0.725054</td>\n",
       "      <td>19.337336</td>\n",
       "    </tr>\n",
       "    <tr>\n",
       "      <th>min</th>\n",
       "      <td>0.000000</td>\n",
       "      <td>0.260000</td>\n",
       "      <td>0.002000</td>\n",
       "      <td>45.950000</td>\n",
       "      <td>10.000000</td>\n",
       "      <td>4.000000</td>\n",
       "      <td>2.000000</td>\n",
       "      <td>9.342000</td>\n",
       "    </tr>\n",
       "    <tr>\n",
       "      <th>25%</th>\n",
       "      <td>0.710000</td>\n",
       "      <td>0.530000</td>\n",
       "      <td>0.263000</td>\n",
       "      <td>942.067500</td>\n",
       "      <td>201.000000</td>\n",
       "      <td>41.000000</td>\n",
       "      <td>4.000000</td>\n",
       "      <td>22.406953</td>\n",
       "    </tr>\n",
       "    <tr>\n",
       "      <th>50%</th>\n",
       "      <td>1.645000</td>\n",
       "      <td>0.590000</td>\n",
       "      <td>0.510500</td>\n",
       "      <td>1471.490000</td>\n",
       "      <td>258.500000</td>\n",
       "      <td>50.000000</td>\n",
       "      <td>4.000000</td>\n",
       "      <td>30.365417</td>\n",
       "    </tr>\n",
       "    <tr>\n",
       "      <th>75%</th>\n",
       "      <td>2.910000</td>\n",
       "      <td>0.660000</td>\n",
       "      <td>0.771500</td>\n",
       "      <td>2104.727500</td>\n",
       "      <td>318.500000</td>\n",
       "      <td>53.000000</td>\n",
       "      <td>5.000000</td>\n",
       "      <td>47.208474</td>\n",
       "    </tr>\n",
       "    <tr>\n",
       "      <th>max</th>\n",
       "      <td>44.370000</td>\n",
       "      <td>0.880000</td>\n",
       "      <td>1.000000</td>\n",
       "      <td>9878.760000</td>\n",
       "      <td>1187.000000</td>\n",
       "      <td>109.000000</td>\n",
       "      <td>5.000000</td>\n",
       "      <td>102.335417</td>\n",
       "    </tr>\n",
       "  </tbody>\n",
       "</table>\n",
       "</div>"
      ],
      "text/plain": [
       "       distance_from_store  credit_score  customer_loyalty_score  total_sales  \\\n",
       "count           394.000000    394.000000              394.000000   394.000000   \n",
       "mean              2.021041      0.596117                0.509589  1846.502538   \n",
       "std               2.566045      0.101352                0.294504  1767.829482   \n",
       "min               0.000000      0.260000                0.002000    45.950000   \n",
       "25%               0.710000      0.530000                0.263000   942.067500   \n",
       "50%               1.645000      0.590000                0.510500  1471.490000   \n",
       "75%               2.910000      0.660000                0.771500  2104.727500   \n",
       "max              44.370000      0.880000                1.000000  9878.760000   \n",
       "\n",
       "       total_items  transaction_count  product_area_count  \\\n",
       "count   394.000000         394.000000          394.000000   \n",
       "mean    278.304569          44.926396            4.312183   \n",
       "std     214.236424          21.248012            0.725054   \n",
       "min      10.000000           4.000000            2.000000   \n",
       "25%     201.000000          41.000000            4.000000   \n",
       "50%     258.500000          50.000000            4.000000   \n",
       "75%     318.500000          53.000000            5.000000   \n",
       "max    1187.000000         109.000000            5.000000   \n",
       "\n",
       "       average_basket_value  \n",
       "count            394.000000  \n",
       "mean              36.781487  \n",
       "std               19.337336  \n",
       "min                9.342000  \n",
       "25%               22.406953  \n",
       "50%               30.365417  \n",
       "75%               47.208474  \n",
       "max              102.335417  "
      ]
     },
     "execution_count": 12,
     "metadata": {},
     "output_type": "execute_result"
    }
   ],
   "source": [
    "# identify outliers (exploration)\n",
    "description = data_for_model.describe()\n",
    "description # distance_from_store, total_sales, and total_items seem to have extreme outliers"
   ]
  },
  {
   "cell_type": "code",
   "execution_count": 13,
   "metadata": {},
   "outputs": [
    {
     "name": "stdout",
     "output_type": "stream",
     "text": [
      "Column [distance_from_store]: Removed 2 Outliers. \n",
      " \t Index: Int64Index([35, 733], dtype='int64')\n",
      "Column [total_sales]: Removed 23 Outliers. \n",
      " \t Index: Int64Index([790, 793, 850, 786, 808, 800, 794, 798, 809, 797, 780, 789, 816,\n",
      "            819, 811, 784, 852, 806, 842, 782, 788, 804, 791],\n",
      "           dtype='int64')\n",
      "Column [total_items]: Removed 0 Outliers. \n",
      " \t Index: Int64Index([], dtype='int64')\n"
     ]
    }
   ],
   "source": [
    "# deal with outliers using the boxplot approach\n",
    "outlier_columns = [\n",
    "    'distance_from_store', \n",
    "    'total_sales', \n",
    "    'total_items'\n",
    "]\n",
    "\n",
    "for col in outlier_columns:\n",
    "    # calculate lower and upper quartiles\n",
    "    lower_quartile = data_for_model[col].quantile(0.25)\n",
    "    upper_quartile = data_for_model[col].quantile(0.75)\n",
    "\n",
    "    # caluclate interquartile range\n",
    "    iqr = upper_quartile - lower_quartile\n",
    "\n",
    "    # calucalte extended interquartile range using a factor of 2\n",
    "    iqr_extended = iqr * 2\n",
    "\n",
    "    # calcualte max and min borders using extended iqr (these are the vertical ticks outside the boxplot)\n",
    "    max_border = upper_quartile + iqr_extended\n",
    "    min_border = lower_quartile - iqr_extended\n",
    "\n",
    "    # return index value for outliers\n",
    "    outliers = data_for_model[(data_for_model[col] < min_border) | (data_for_model[col] > max_border)].index \n",
    "\n",
    "    # print results\n",
    "    print(f'Column [{col}]: Removed {len(outliers)} Outliers. \\n \\t Index: {outliers}')\n",
    "\n",
    "    # remove outliers\n",
    "    data_for_model = data_for_model.drop(outliers)"
   ]
  },
  {
   "cell_type": "code",
   "execution_count": 14,
   "metadata": {},
   "outputs": [],
   "source": [
    "# split input and output variables\n",
    "X = data_for_model.drop(['customer_loyalty_score'], axis = 1) # input vairables\n",
    "y = data_for_model['customer_loyalty_score'] # output variable"
   ]
  },
  {
   "cell_type": "code",
   "execution_count": 15,
   "metadata": {},
   "outputs": [],
   "source": [
    "# split data into training and test sets\n",
    "X_train, X_test, y_train, y_test = train_test_split(X, y, test_size = 0.2)"
   ]
  },
  {
   "cell_type": "code",
   "execution_count": 16,
   "metadata": {},
   "outputs": [],
   "source": [
    "# deal with categorical variables\n",
    "categorical_vars = ['gender']\n",
    "\n",
    "# enstantiate one hot encoder object and apply to training and test data\n",
    "one_hot_encoder = OneHotEncoder(sparse = False, drop = 'first') # returns array, drops one of the binary categorical columns to reduce multicollinearity\n",
    "\n",
    "X_train_encoded = one_hot_encoder.fit_transform(X_train[categorical_vars])\n",
    "X_test_encoded = one_hot_encoder.transform(X_test[categorical_vars])\n",
    "\n",
    "# create object to get feature names\n",
    "encoder_feature_names = one_hot_encoder.get_feature_names_out(categorical_vars)\n",
    "\n",
    "# create data frame with encoder variables and feature names, and concat to original data frame and reset index\n",
    "X_train_encoded = pd.DataFrame(X_train_encoded, columns = encoder_feature_names)\n",
    "X_train = pd.concat([X_train.reset_index (drop = True), X_train_encoded.reset_index (drop = True)], axis = 1) # axis 1 concats columns and not rows\n",
    "X_train.drop(categorical_vars, axis = 1, inplace = True) # axis 1 drops columns and not rows\n",
    "\n",
    "X_test_encoded = pd.DataFrame(X_test_encoded, columns = encoder_feature_names)\n",
    "X_test = pd.concat([X_test.reset_index (drop = True), X_test_encoded.reset_index (drop = True)], axis = 1) # axis 1 concats columns and not rows\n",
    "X_test.drop(categorical_vars, axis = 1, inplace = True) # axis 1 drops columns and not rows"
   ]
  },
  {
   "cell_type": "code",
   "execution_count": 17,
   "metadata": {},
   "outputs": [
    {
     "name": "stdout",
     "output_type": "stream",
     "text": [
      "Optimal Number of Features: 8 \n",
      "\n"
     ]
    },
    {
     "data": {
      "image/png": "[encoded data removed]",
      "text/plain": [
       "<Figure size 432x288 with 1 Axes>"
      ]
     },
     "metadata": {},
     "output_type": "display_data"
    }
   ],
   "source": [
    "# feature selection\n",
    "\n",
    "# instantiate regression and feature selecter object\n",
    "regressor = LinearRegression()\n",
    "feature_selector = RFECV(regressor)\n",
    "\n",
    "# learn relationships\n",
    "fit = feature_selector.fit(X_train, y_train)\n",
    "\n",
    "# determine optimal number of features based on cross validation\n",
    "optimal_feature_count = feature_selector.n_features_\n",
    "print(f'Optimal Number of Features: {optimal_feature_count} \\n')\n",
    "\n",
    "# create new dataframe with selected features\n",
    "X_train = X_train.loc[:, feature_selector.get_support()]\n",
    "X_test = X_test.loc[:, feature_selector.get_support()]\n",
    "\n",
    "# plot results to visually determine best number of features\n",
    "plt.plot(range(1, len(fit.cv_results_['mean_test_score']) + 1), fit.cv_results_['mean_test_score'], marker = \"o\")\n",
    "plt.ylabel(\"Model Score\")\n",
    "plt.xlabel(\"Number of Features\")\n",
    "plt.title(f\"Feature Selection Using RFE \\n Optimal # of Features Is {optimal_feature_count} (At Score Of {round(max(fit.cv_results_['mean_test_score']),4)})\")\n",
    "plt.tight_layout()\n",
    "plt.show()"
   ]
  },
  {
   "cell_type": "markdown",
   "metadata": {},
   "source": [
    "### Model Training"
   ]
  },
  {
   "cell_type": "code",
   "execution_count": 18,
   "metadata": {},
   "outputs": [
    {
     "data": {
      "text/plain": [
       "LinearRegression()"
      ]
     },
     "execution_count": 18,
     "metadata": {},
     "output_type": "execute_result"
    }
   ],
   "source": [
    "# train model\n",
    "regressor = LinearRegression()\n",
    "regressor.fit(X_train, y_train)"
   ]
  },
  {
   "cell_type": "code",
   "execution_count": 19,
   "metadata": {},
   "outputs": [
    {
     "data": {
      "text/plain": [
       "array([ 0.1652103 ,  0.41210025,  0.64060589,  0.5459636 ,  0.74115586,\n",
       "        0.36268972,  0.23269686, -0.08571596,  0.62226474,  0.59810223,\n",
       "        0.88742331,  0.3414499 ,  0.6404862 ,  0.62061618,  0.75020045,\n",
       "        0.3086617 ,  0.28554165,  0.62480193,  0.53382952,  0.64520035,\n",
       "        0.22888288,  0.79121225,  0.65409613,  0.40607449,  0.9865813 ,\n",
       "        0.7275668 ,  0.18288998,  0.55867209,  0.62891625,  0.51866087,\n",
       "        0.65195882,  0.68232127,  0.90138538,  0.72787699,  0.49531779,\n",
       "        0.69914387,  0.32667578,  0.2836864 ,  0.50500707,  0.20954219,\n",
       "        0.78462134, -0.01319415,  0.10376645,  0.74147802,  0.62263467,\n",
       "        0.57379199,  0.37504855,  0.50460136,  0.44833014,  0.71299625,\n",
       "        0.58840837,  0.67633546,  0.51590334,  0.4884633 ,  0.40401866,\n",
       "        0.64061013,  0.81533655,  0.83732541,  0.06558321,  0.5478638 ,\n",
       "        0.32055917,  0.60075695,  0.26458658,  0.55808759,  0.48965507,\n",
       "        0.38970119,  0.56423399,  0.39410933,  0.57771985,  0.404685  ,\n",
       "        0.74110679,  0.61057244,  1.00604757,  0.60734223])"
      ]
     },
     "execution_count": 19,
     "metadata": {},
     "output_type": "execute_result"
    }
   ],
   "source": [
    "# predict on the test set\n",
    "y_pred = regressor.predict(X_test)\n",
    "y_pred"
   ]
  },
  {
   "cell_type": "markdown",
   "metadata": {},
   "source": [
    "# Performance Assessment"
   ]
  },
  {
   "cell_type": "code",
   "execution_count": 20,
   "metadata": {},
   "outputs": [
    {
     "name": "stdout",
     "output_type": "stream",
     "text": [
      "R-Squared = 0.7889476450479233\n"
     ]
    }
   ],
   "source": [
    "# calculate R-Squared\n",
    "r_squared = r2_score(y_test, y_pred)\n",
    "print(f'R-Squared = {r_squared}')"
   ]
  },
  {
   "cell_type": "code",
   "execution_count": 21,
   "metadata": {},
   "outputs": [
    {
     "name": "stdout",
     "output_type": "stream",
     "text": [
      "Cross Validation Score: 0.8563007041265283\n"
     ]
    }
   ],
   "source": [
    "# cross validation\n",
    "cv = KFold(n_splits = 4, shuffle = True)\n",
    "cv_scores = cross_val_score(regressor, X_train, y_train, cv = cv, scoring = 'r2')\n",
    "print(f'Cross Validation Score: {cv_scores.mean()}')"
   ]
  },
  {
   "cell_type": "code",
   "execution_count": 22,
   "metadata": {},
   "outputs": [
    {
     "name": "stdout",
     "output_type": "stream",
     "text": [
      "Adjusted R-Squared = 0.762971970592283\n"
     ]
    }
   ],
   "source": [
    "# calculate adjusted r-squared\n",
    "num_data_points, num_input_vars = X_test.shape # output of .shape is the number of rows and columns\n",
    "adjusted_r_squared = 1 - (1 - r_squared) * (num_data_points - 1) / (num_data_points - num_input_vars - 1)\n",
    "print(f'Adjusted R-Squared = {adjusted_r_squared}')"
   ]
  },
  {
   "cell_type": "code",
   "execution_count": 23,
   "metadata": {},
   "outputs": [
    {
     "data": {
      "text/html": [
       "<div>\n",
       "<style scoped>\n",
       "    .dataframe tbody tr th:only-of-type {\n",
       "        vertical-align: middle;\n",
       "    }\n",
       "\n",
       "    .dataframe tbody tr th {\n",
       "        vertical-align: top;\n",
       "    }\n",
       "\n",
       "    .dataframe thead th {\n",
       "        text-align: right;\n",
       "    }\n",
       "</style>\n",
       "<table border=\"1\" class=\"dataframe\">\n",
       "  <thead>\n",
       "    <tr style=\"text-align: right;\">\n",
       "      <th></th>\n",
       "      <th>input_variable</th>\n",
       "      <th>coefficient</th>\n",
       "    </tr>\n",
       "  </thead>\n",
       "  <tbody>\n",
       "    <tr>\n",
       "      <th>0</th>\n",
       "      <td>distance_from_store</td>\n",
       "      <td>-0.186111</td>\n",
       "    </tr>\n",
       "    <tr>\n",
       "      <th>1</th>\n",
       "      <td>credit_score</td>\n",
       "      <td>-0.032838</td>\n",
       "    </tr>\n",
       "    <tr>\n",
       "      <th>2</th>\n",
       "      <td>total_sales</td>\n",
       "      <td>0.000089</td>\n",
       "    </tr>\n",
       "    <tr>\n",
       "      <th>3</th>\n",
       "      <td>total_items</td>\n",
       "      <td>0.001008</td>\n",
       "    </tr>\n",
       "    <tr>\n",
       "      <th>4</th>\n",
       "      <td>transaction_count</td>\n",
       "      <td>-0.003814</td>\n",
       "    </tr>\n",
       "    <tr>\n",
       "      <th>5</th>\n",
       "      <td>product_area_count</td>\n",
       "      <td>0.071137</td>\n",
       "    </tr>\n",
       "    <tr>\n",
       "      <th>6</th>\n",
       "      <td>average_basket_value</td>\n",
       "      <td>-0.001767</td>\n",
       "    </tr>\n",
       "    <tr>\n",
       "      <th>7</th>\n",
       "      <td>gender_M</td>\n",
       "      <td>0.020617</td>\n",
       "    </tr>\n",
       "  </tbody>\n",
       "</table>\n",
       "</div>"
      ],
      "text/plain": [
       "         input_variable  coefficient\n",
       "0   distance_from_store    -0.186111\n",
       "1          credit_score    -0.032838\n",
       "2           total_sales     0.000089\n",
       "3           total_items     0.001008\n",
       "4     transaction_count    -0.003814\n",
       "5    product_area_count     0.071137\n",
       "6  average_basket_value    -0.001767\n",
       "7              gender_M     0.020617"
      ]
     },
     "execution_count": 23,
     "metadata": {},
     "output_type": "execute_result"
    }
   ],
   "source": [
    "# extract model coefficients\n",
    "coefficients = pd.DataFrame(regressor.coef_)\n",
    "input_var_names = pd.DataFrame(X_train.columns)\n",
    "summary_coef = pd.concat([input_var_names, coefficients], axis = 1)\n",
    "summary_coef.columns = ['input_variable', 'coefficient']\n",
    "\n",
    "summary_coef"
   ]
  },
  {
   "cell_type": "code",
   "execution_count": 24,
   "metadata": {},
   "outputs": [
    {
     "name": "stdout",
     "output_type": "stream",
     "text": [
      "Intercept: 0.3990398114751611\n"
     ]
    }
   ],
   "source": [
    "# extract model intercept\n",
    "intercept = regressor.intercept_\n",
    "print(f'Intercept: {intercept}')"
   ]
  },
  {
   "cell_type": "markdown",
   "metadata": {},
   "source": [
    "The coefficient value for each of the input variables, along with that of the intercept would make up the equation for the line of best fit for this particular model (or more accurately, in this case it would be the plane of best fit, as we have multiple input variables).\n",
    "\n",
    "For each input variable, the coefficient value we see above tells us, with *everything else staying constant* how many units the output variable (loyalty score) would change with a *one unit change* in this particular input variable."
   ]
  },
  {
   "cell_type": "markdown",
   "metadata": {},
   "source": [
    "## Decision Tree\n",
    "We will again utlise the scikit-learn library within Python to model our data using a Decision Tree. The code sections below are broken up into 4 key sections:\n",
    "\n",
    "* Data Import\n",
    "* Data Preprocessing\n",
    "* Model Training\n",
    "* Performance Assessment\n",
    "* Decision Tree Regularisation\n",
    "* Decision Tree Visualization"
   ]
  },
  {
   "cell_type": "markdown",
   "metadata": {},
   "source": [
    "### Data Import"
   ]
  },
  {
   "cell_type": "code",
   "execution_count": 25,
   "metadata": {},
   "outputs": [],
   "source": [
    "# import libraries\n",
    "from sklearn.tree import DecisionTreeRegressor, plot_tree\n",
    "from sklearn.utils import shuffle\n",
    "from sklearn.model_selection import train_test_split, cross_val_score, KFold\n",
    "from sklearn.metrics import r2_score\n",
    "from sklearn.preprocessing import OneHotEncoder"
   ]
  },
  {
   "cell_type": "code",
   "execution_count": 26,
   "metadata": {},
   "outputs": [
    {
     "data": {
      "text/html": [
       "<div>\n",
       "<style scoped>\n",
       "    .dataframe tbody tr th:only-of-type {\n",
       "        vertical-align: middle;\n",
       "    }\n",
       "\n",
       "    .dataframe tbody tr th {\n",
       "        vertical-align: top;\n",
       "    }\n",
       "\n",
       "    .dataframe thead th {\n",
       "        text-align: right;\n",
       "    }\n",
       "</style>\n",
       "<table border=\"1\" class=\"dataframe\">\n",
       "  <thead>\n",
       "    <tr style=\"text-align: right;\">\n",
       "      <th></th>\n",
       "      <th>distance_from_store</th>\n",
       "      <th>gender</th>\n",
       "      <th>credit_score</th>\n",
       "      <th>customer_loyalty_score</th>\n",
       "      <th>total_sales</th>\n",
       "      <th>total_items</th>\n",
       "      <th>transaction_count</th>\n",
       "      <th>product_area_count</th>\n",
       "      <th>average_basket_value</th>\n",
       "    </tr>\n",
       "  </thead>\n",
       "  <tbody>\n",
       "    <tr>\n",
       "      <th>455</th>\n",
       "      <td>0.28</td>\n",
       "      <td>M</td>\n",
       "      <td>0.81</td>\n",
       "      <td>0.889</td>\n",
       "      <td>990.65</td>\n",
       "      <td>243</td>\n",
       "      <td>53</td>\n",
       "      <td>4</td>\n",
       "      <td>18.691509</td>\n",
       "    </tr>\n",
       "    <tr>\n",
       "      <th>621</th>\n",
       "      <td>2.58</td>\n",
       "      <td>F</td>\n",
       "      <td>0.58</td>\n",
       "      <td>0.162</td>\n",
       "      <td>333.26</td>\n",
       "      <td>70</td>\n",
       "      <td>13</td>\n",
       "      <td>4</td>\n",
       "      <td>25.635385</td>\n",
       "    </tr>\n",
       "    <tr>\n",
       "      <th>64</th>\n",
       "      <td>0.80</td>\n",
       "      <td>M</td>\n",
       "      <td>0.80</td>\n",
       "      <td>0.956</td>\n",
       "      <td>1753.96</td>\n",
       "      <td>371</td>\n",
       "      <td>52</td>\n",
       "      <td>5</td>\n",
       "      <td>33.730000</td>\n",
       "    </tr>\n",
       "    <tr>\n",
       "      <th>456</th>\n",
       "      <td>0.16</td>\n",
       "      <td>M</td>\n",
       "      <td>0.56</td>\n",
       "      <td>0.926</td>\n",
       "      <td>929.57</td>\n",
       "      <td>225</td>\n",
       "      <td>51</td>\n",
       "      <td>4</td>\n",
       "      <td>18.226863</td>\n",
       "    </tr>\n",
       "    <tr>\n",
       "      <th>196</th>\n",
       "      <td>3.27</td>\n",
       "      <td>F</td>\n",
       "      <td>0.67</td>\n",
       "      <td>0.297</td>\n",
       "      <td>1904.55</td>\n",
       "      <td>376</td>\n",
       "      <td>36</td>\n",
       "      <td>3</td>\n",
       "      <td>52.904167</td>\n",
       "    </tr>\n",
       "  </tbody>\n",
       "</table>\n",
       "</div>"
      ],
      "text/plain": [
       "     distance_from_store gender  credit_score  customer_loyalty_score  \\\n",
       "455                 0.28      M          0.81                   0.889   \n",
       "621                 2.58      F          0.58                   0.162   \n",
       "64                  0.80      M          0.80                   0.956   \n",
       "456                 0.16      M          0.56                   0.926   \n",
       "196                 3.27      F          0.67                   0.297   \n",
       "\n",
       "     total_sales  total_items  transaction_count  product_area_count  \\\n",
       "455       990.65          243                 53                   4   \n",
       "621       333.26           70                 13                   4   \n",
       "64       1753.96          371                 52                   5   \n",
       "456       929.57          225                 51                   4   \n",
       "196      1904.55          376                 36                   3   \n",
       "\n",
       "     average_basket_value  \n",
       "455             18.691509  \n",
       "621             25.635385  \n",
       "64              33.730000  \n",
       "456             18.226863  \n",
       "196             52.904167  "
      ]
     },
     "execution_count": 26,
     "metadata": {},
     "output_type": "execute_result"
    }
   ],
   "source": [
    "# import modelling data\n",
    "data_for_model = pickle.load(open(\"data/customer_loyalty_modelling.p\", \"rb\"))\n",
    "\n",
    "# drop uneccessary columns\n",
    "data_for_model.drop(\"customer_id\", axis = 1, inplace = True)\n",
    "\n",
    "# shuffle data\n",
    "data_for_model = shuffle(data_for_model, random_state = 42)\n",
    "\n",
    "data_for_model.head()"
   ]
  },
  {
   "cell_type": "markdown",
   "metadata": {},
   "source": [
    "### Data Preprocessing\n",
    "While Linear Regression is susceptible to the effects of outliers, and highly correlated input variables - Decision Trees are not, so the required preprocessing here is lighter. We still however will put in place logic for:\n",
    "\n",
    "* Missing Values\n",
    "* Encoding Categorical Variables"
   ]
  },
  {
   "cell_type": "code",
   "execution_count": 27,
   "metadata": {},
   "outputs": [
    {
     "name": "stdout",
     "output_type": "stream",
     "text": [
      "distance_from_store       2\n",
      "gender                    3\n",
      "credit_score              2\n",
      "customer_loyalty_score    0\n",
      "total_sales               0\n",
      "total_items               0\n",
      "transaction_count         0\n",
      "product_area_count        0\n",
      "average_basket_value      0\n",
      "dtype: int64\n"
     ]
    }
   ],
   "source": [
    "# deal with missing value\n",
    "print(data_for_model.isna().sum())\n",
    "data_for_model = data_for_model.dropna(how = 'any') # we don't need to use imputer in this case since we have a very small amount of na records"
   ]
  },
  {
   "cell_type": "code",
   "execution_count": 28,
   "metadata": {},
   "outputs": [],
   "source": [
    "# split input and output variables\n",
    "X = data_for_model.drop([\"customer_loyalty_score\"], axis = 1)\n",
    "y = data_for_model[\"customer_loyalty_score\"]"
   ]
  },
  {
   "cell_type": "code",
   "execution_count": 29,
   "metadata": {},
   "outputs": [],
   "source": [
    "# split data into training and test sets\n",
    "X_train, X_test, y_train, y_test = train_test_split(X, y, test_size = 0.2, random_state = 42)"
   ]
  },
  {
   "cell_type": "code",
   "execution_count": 30,
   "metadata": {},
   "outputs": [],
   "source": [
    "# deal with categorical variables\n",
    "categorical_vars = ['gender']\n",
    "\n",
    "# enstantiate one hot encoder object and apply to training and test data\n",
    "one_hot_encoder = OneHotEncoder(sparse = False, drop = 'first') # returns array, drops one of the binary categorical columns to reduce multicollinearity\n",
    "\n",
    "X_train_encoded = one_hot_encoder.fit_transform(X_train[categorical_vars])\n",
    "X_test_encoded = one_hot_encoder.transform(X_test[categorical_vars])\n",
    "\n",
    "# create object to get feature names\n",
    "encoder_feature_names = one_hot_encoder.get_feature_names_out(categorical_vars)\n",
    "\n",
    "# create data frame with encoder variables and feature names, and concat to original data frame and reset index\n",
    "X_train_encoded = pd.DataFrame(X_train_encoded, columns = encoder_feature_names)\n",
    "X_train = pd.concat([X_train.reset_index (drop = True), X_train_encoded.reset_index (drop = True)], axis = 1) # axis 1 concats columns and not rows\n",
    "X_train.drop(categorical_vars, axis = 1, inplace = True) # axis 1 drops columns and not rows\n",
    "\n",
    "X_test_encoded = pd.DataFrame(X_test_encoded, columns = encoder_feature_names)\n",
    "X_test = pd.concat([X_test.reset_index (drop = True), X_test_encoded.reset_index (drop = True)], axis = 1) # axis 1 concats columns and not rows\n",
    "X_test.drop(categorical_vars, axis = 1, inplace = True) # axis 1 drops columns and not rows"
   ]
  },
  {
   "cell_type": "markdown",
   "metadata": {},
   "source": [
    "### Model Training"
   ]
  },
  {
   "cell_type": "code",
   "execution_count": 31,
   "metadata": {},
   "outputs": [
    {
     "data": {
      "text/plain": [
       "DecisionTreeRegressor()"
      ]
     },
     "execution_count": 31,
     "metadata": {},
     "output_type": "execute_result"
    }
   ],
   "source": [
    "# train model\n",
    "regressor = DecisionTreeRegressor()\n",
    "regressor.fit(X_train, y_train)"
   ]
  },
  {
   "cell_type": "code",
   "execution_count": 32,
   "metadata": {},
   "outputs": [
    {
     "data": {
      "text/plain": [
       "array([0.174, 0.267, 0.302, 0.813, 0.672, 0.267, 0.366, 0.828, 0.457,\n",
       "       0.36 , 0.851, 0.683, 0.457, 0.268, 0.003, 0.081, 0.657, 0.127,\n",
       "       0.759, 0.667, 0.506, 0.408, 0.508, 0.706, 0.116, 0.916, 0.997,\n",
       "       0.448, 0.408, 0.832, 0.272, 0.441, 0.985, 0.337, 0.66 , 0.624,\n",
       "       0.796, 0.234, 0.968, 0.404, 0.728, 0.937, 0.116, 0.963, 0.988,\n",
       "       0.781, 0.12 , 0.063, 0.581, 0.68 , 0.201, 0.852, 0.398, 0.162,\n",
       "       0.657, 0.881, 0.297, 0.77 , 0.344, 0.65 , 0.174, 0.027, 0.498,\n",
       "       0.247, 0.698, 0.208, 0.366, 0.127, 0.337, 0.754, 0.916, 0.457,\n",
       "       0.265, 0.526, 0.631, 0.898, 0.036, 0.852, 0.859])"
      ]
     },
     "execution_count": 32,
     "metadata": {},
     "output_type": "execute_result"
    }
   ],
   "source": [
    "# predict on the test set\n",
    "y_pred = regressor.predict(X_test)\n",
    "y_pred"
   ]
  },
  {
   "cell_type": "markdown",
   "metadata": {},
   "source": [
    "### Performance Assessment"
   ]
  },
  {
   "cell_type": "code",
   "execution_count": 33,
   "metadata": {},
   "outputs": [
    {
     "name": "stdout",
     "output_type": "stream",
     "text": [
      "R-Squared = 0.8809822761230048\n"
     ]
    }
   ],
   "source": [
    "# calculate R-Squared\n",
    "r_squared = r2_score(y_test, y_pred)\n",
    "print(f'R-Squared = {r_squared}')"
   ]
  },
  {
   "cell_type": "code",
   "execution_count": 36,
   "metadata": {},
   "outputs": [
    {
     "name": "stdout",
     "output_type": "stream",
     "text": [
      "Cross Validation Score: 0.8497162955586417\n"
     ]
    }
   ],
   "source": [
    "# cross validation\n",
    "cv = KFold(n_splits = 4, shuffle = True)\n",
    "cv_scores = cross_val_score(regressor, X_train, y_train, cv = cv, scoring = 'r2')\n",
    "print(f'Cross Validation Score: {cv_scores.mean()}')"
   ]
  },
  {
   "cell_type": "code",
   "execution_count": 35,
   "metadata": {},
   "outputs": [
    {
     "name": "stdout",
     "output_type": "stream",
     "text": [
      "Adjusted R-Squared = 0.8673802505370625\n"
     ]
    }
   ],
   "source": [
    "# calculate adjusted r-squared\n",
    "num_data_points, num_input_vars = X_test.shape # output of .shape is the number of rows and columns\n",
    "adjusted_r_squared = 1 - (1 - r_squared) * (num_data_points - 1) / (num_data_points - num_input_vars - 1)\n",
    "print(f'Adjusted R-Squared = {adjusted_r_squared}')"
   ]
  },
  {
   "cell_type": "markdown",
   "metadata": {},
   "source": [
    "### Decision Tree Regularisation\n",
    "Decision Tree's can be prone to over-fitting, in other words, without any limits on their splitting, \n",
    "they will end up learning the training data perfectly.  We would much prefer our model to have a more \n",
    "*generalised* set of rules, as this will be more robust & reliable when making predictions on *new* data.\n",
    "\n",
    "One effective method of avoiding this over-fitting, is to apply a *max depth* to the Decision Tree, \n",
    "meaning we only allow it to split the data a certain number of times before it is required to stop.\n",
    "\n",
    "Unfortunately, we don't necessarily know the *best* number of splits to use for this - so below we will loop \n",
    "over a variety of values and assess which gives us the best predictive performance!"
   ]
  },
  {
   "cell_type": "code",
   "execution_count": 37,
   "metadata": {},
   "outputs": [
    {
     "data": {
      "text/plain": [
       "{'Depth_1': 0.48041516747913704,\n",
       " 'Depth_2': 0.749628862008641,\n",
       " 'Depth_3': 0.8434993278383678,\n",
       " 'Depth_4': 0.8666832224200037,\n",
       " 'Depth_5': 0.877539761200972,\n",
       " 'Depth_6': 0.9035730999342096,\n",
       " 'Depth_7': 0.8894785873230003,\n",
       " 'Depth_8': 0.8897876858466721}"
      ]
     },
     "execution_count": 37,
     "metadata": {},
     "output_type": "execute_result"
    }
   ],
   "source": [
    "# finding best value for max_depth (maximum number of splits)\n",
    "max_depth_list = list(range(1, 9))\n",
    "accuracy_scores = []\n",
    "\n",
    "for depth in max_depth_list:\n",
    "    regressor = DecisionTreeRegressor(max_depth = depth)\n",
    "    regressor.fit(X_train, y_train)\n",
    "    y_pred = regressor.predict(X_test)\n",
    "\n",
    "    accuracy = r2_score(y_test, y_pred)\n",
    "    accuracy_scores.append(accuracy)\n",
    "\n",
    "\n",
    "accuracy_scores_dict = {\n",
    "    'Depth_1': accuracy_scores[0],\n",
    "    'Depth_2': accuracy_scores[1],\n",
    "    'Depth_3': accuracy_scores[2],\n",
    "    'Depth_4': accuracy_scores[3],\n",
    "    'Depth_5': accuracy_scores[4],\n",
    "    'Depth_6': accuracy_scores[5],\n",
    "    'Depth_7': accuracy_scores[6],\n",
    "    'Depth_8': accuracy_scores[7],\n",
    "}\n",
    "\n",
    "accuracy_scores_dict"
   ]
  },
  {
   "cell_type": "code",
   "execution_count": 38,
   "metadata": {},
   "outputs": [
    {
     "name": "stdout",
     "output_type": "stream",
     "text": [
      "The Optimal Depth is: 6\n"
     ]
    }
   ],
   "source": [
    "# determine max accuracy and optimal depth\n",
    "max_accuracy = max(accuracy_scores)\n",
    "max_accuracy_idx = accuracy_scores.index(max_accuracy)\n",
    "optimal_depth = max_depth_list[max_accuracy_idx]\n",
    "\n",
    "print(f'The Optimal Depth is: {optimal_depth}')"
   ]
  },
  {
   "cell_type": "code",
   "execution_count": 39,
   "metadata": {},
   "outputs": [
    {
     "data": {
      "image/png": "[encoded data removed]",
      "text/plain": [
       "<Figure size 432x288 with 1 Axes>"
      ]
     },
     "metadata": {},
     "output_type": "display_data"
    }
   ],
   "source": [
    "# plot of max depths\n",
    "plt.plot(max_depth_list, accuracy_scores)\n",
    "plt.scatter(optimal_depth, max_accuracy, marker = 'x', color = 'red')\n",
    "\n",
    "plt.title(f'''\n",
    "Accuracy by Max Depth\n",
    "Optimal Tree Depth: {optimal_depth}\n",
    "Accuracy: {round(max_accuracy, 4)}\n",
    "''')\n",
    "\n",
    "plt.xlabel('Max Depth of Decision Tree')\n",
    "plt.ylabel('Accuracy')\n",
    "\n",
    "plt.tight_layout()\n",
    "plt.show()"
   ]
  },
  {
   "cell_type": "code",
   "execution_count": 40,
   "metadata": {},
   "outputs": [
    {
     "data": {
      "text/plain": [
       "DecisionTreeRegressor(max_depth=4)"
      ]
     },
     "execution_count": 40,
     "metadata": {},
     "output_type": "execute_result"
    }
   ],
   "source": [
    "# re-train model with determined max depth\n",
    "regressor_re_train = DecisionTreeRegressor(max_depth = 4) # less than the most accurate depth, attempt to keep decision tree smaller\n",
    "regressor_re_train.fit(X_train, y_train)"
   ]
  },
  {
   "cell_type": "code",
   "execution_count": 41,
   "metadata": {},
   "outputs": [
    {
     "data": {
      "text/plain": [
       "array([0.26066667, 0.32832558, 0.26066667, 0.65457143, 0.65457143,\n",
       "       0.32832558, 0.4645    , 0.828     , 0.335     , 0.4645    ,\n",
       "       0.90407143, 0.79628571, 0.335     , 0.26066667, 0.04257143,\n",
       "       0.04257143, 0.50694444, 0.12183333, 0.79628571, 0.65457143,\n",
       "       0.4645    , 0.65457143, 0.50694444, 0.79628571, 0.12183333,\n",
       "       0.907     , 0.90407143, 0.4645    , 0.65457143, 0.79628571,\n",
       "       0.32832558, 0.50694444, 0.90407143, 0.335     , 0.79628571,\n",
       "       0.65457143, 0.74157143, 0.26066667, 0.90407143, 0.32832558,\n",
       "       0.65457143, 0.90407143, 0.12183333, 0.79628571, 0.90407143,\n",
       "       0.79628571, 0.26066667, 0.04257143, 0.55466667, 0.55466667,\n",
       "       0.26066667, 0.79628571, 0.4645    , 0.12183333, 0.50694444,\n",
       "       0.90407143, 0.32832558, 0.79628571, 0.55466667, 0.79628571,\n",
       "       0.26066667, 0.04257143, 0.50694444, 0.32832558, 0.79628571,\n",
       "       0.32832558, 0.4645    , 0.12183333, 0.335     , 0.65457143,\n",
       "       0.907     , 0.335     , 0.32832558, 0.50694444, 0.65457143,\n",
       "       0.79628571, 0.04257143, 0.79628571, 0.79628571])"
      ]
     },
     "execution_count": 41,
     "metadata": {},
     "output_type": "execute_result"
    }
   ],
   "source": [
    "# predict on the test set using re-trained model\n",
    "y_pred_re_train = regressor_re_train.predict(X_test)\n",
    "y_pred_re_train"
   ]
  },
  {
   "cell_type": "code",
   "execution_count": 42,
   "metadata": {},
   "outputs": [
    {
     "name": "stdout",
     "output_type": "stream",
     "text": [
      "R-Squared = 0.8666832224200036\n"
     ]
    }
   ],
   "source": [
    "# calculate new R-Squared\n",
    "r_squared_re_train = r2_score(y_test, y_pred_re_train)\n",
    "print(f'R-Squared = {r_squared_re_train}')"
   ]
  },
  {
   "cell_type": "code",
   "execution_count": 43,
   "metadata": {},
   "outputs": [
    {
     "name": "stdout",
     "output_type": "stream",
     "text": [
      "Adjusted R-Squared = 0.851447019268004\n"
     ]
    }
   ],
   "source": [
    "# calculate new adjusted r-squared\n",
    "adjusted_r_squared_re_train = 1 - (1 - r_squared_re_train) * (num_data_points - 1) / (num_data_points - num_input_vars - 1)\n",
    "print(f'Adjusted R-Squared = {adjusted_r_squared_re_train}')"
   ]
  },
  {
   "cell_type": "markdown",
   "metadata": {},
   "source": [
    "In the plot we can see that the *maximum* classification accuracy on the test set is found when applying a *max_depth* value of 7.  \n",
    "However, we lose very little accuracy back to a value of 4, but this would result in a simpler model, that generalised even better on new data.  \n",
    "We make the executive decision to re-train our Decision Tree with a maximum depth of 4.\n",
    "\n",
    "R Squared and Adjusted R Squared dropped a few points due to the reduction of overfitting."
   ]
  },
  {
   "cell_type": "markdown",
   "metadata": {},
   "source": [
    "### Visualise Our Decision Tree\n",
    "To see the decisions that have been made in the (re-fitted) tree, we can use the plot_tree functionality \n",
    "that we imported from scikit-learn. To do this, we use the below code:"
   ]
  },
  {
   "cell_type": "code",
   "execution_count": 44,
   "metadata": {},
   "outputs": [
    {
     "data": {
      "text/plain": [
       "[Text(0.5, 0.9, 'distance_from_store <= 1.975\\nsquared_error = 0.088\\nsamples = 315\\nvalue = 0.511'),\n",
       " Text(0.25, 0.7, 'distance_from_store <= 0.975\\nsquared_error = 0.044\\nsamples = 177\\nvalue = 0.703'),\n",
       " Text(0.125, 0.5, 'total_sales <= 197.0\\nsquared_error = 0.022\\nsamples = 113\\nvalue = 0.799'),\n",
       " Text(0.0625, 0.3, 'distance_from_store <= 0.33\\nsquared_error = 0.018\\nsamples = 22\\nvalue = 0.602'),\n",
       " Text(0.03125, 0.1, 'squared_error = 0.003\\nsamples = 7\\nvalue = 0.742'),\n",
       " Text(0.09375, 0.1, 'squared_error = 0.011\\nsamples = 15\\nvalue = 0.537'),\n",
       " Text(0.1875, 0.3, 'credit_score <= 1498.465\\nsquared_error = 0.011\\nsamples = 91\\nvalue = 0.846'),\n",
       " Text(0.15625, 0.1, 'squared_error = 0.01\\nsamples = 49\\nvalue = 0.796'),\n",
       " Text(0.21875, 0.1, 'squared_error = 0.007\\nsamples = 42\\nvalue = 0.904'),\n",
       " Text(0.375, 0.5, 'credit_score <= 1605.05\\nsquared_error = 0.038\\nsamples = 64\\nvalue = 0.533'),\n",
       " Text(0.3125, 0.3, 'total_sales <= 211.5\\nsquared_error = 0.017\\nsamples = 38\\nvalue = 0.416'),\n",
       " Text(0.28125, 0.1, 'squared_error = 0.012\\nsamples = 20\\nvalue = 0.335'),\n",
       " Text(0.34375, 0.1, 'squared_error = 0.007\\nsamples = 18\\nvalue = 0.507'),\n",
       " Text(0.4375, 0.3, 'credit_score <= 3072.665\\nsquared_error = 0.019\\nsamples = 26\\nvalue = 0.703'),\n",
       " Text(0.40625, 0.1, 'squared_error = 0.01\\nsamples = 21\\nvalue = 0.655'),\n",
       " Text(0.46875, 0.1, 'squared_error = 0.004\\nsamples = 5\\nvalue = 0.907'),\n",
       " Text(0.75, 0.7, 'credit_score <= 1624.08\\nsquared_error = 0.037\\nsamples = 138\\nvalue = 0.266'),\n",
       " Text(0.625, 0.5, 'distance_from_store <= 2.855\\nsquared_error = 0.01\\nsamples = 66\\nvalue = 0.117'),\n",
       " Text(0.5625, 0.3, 'total_items <= 40.5\\nsquared_error = 0.012\\nsamples = 27\\nvalue = 0.199'),\n",
       " Text(0.53125, 0.1, 'squared_error = 0.003\\nsamples = 12\\nvalue = 0.122'),\n",
       " Text(0.59375, 0.1, 'squared_error = 0.01\\nsamples = 15\\nvalue = 0.261'),\n",
       " Text(0.6875, 0.3, 'credit_score <= 391.195\\nsquared_error = 0.002\\nsamples = 39\\nvalue = 0.06'),\n",
       " Text(0.65625, 0.1, 'squared_error = 0.001\\nsamples = 28\\nvalue = 0.043'),\n",
       " Text(0.71875, 0.1, 'squared_error = 0.0\\nsamples = 11\\nvalue = 0.104'),\n",
       " Text(0.875, 0.5, 'total_items <= 54.5\\nsquared_error = 0.022\\nsamples = 72\\nvalue = 0.403'),\n",
       " Text(0.8125, 0.3, 'distance_from_store <= 2.745\\nsquared_error = 0.016\\nsamples = 59\\nvalue = 0.365'),\n",
       " Text(0.78125, 0.1, 'squared_error = 0.013\\nsamples = 16\\nvalue = 0.464'),\n",
       " Text(0.84375, 0.1, 'squared_error = 0.012\\nsamples = 43\\nvalue = 0.328'),\n",
       " Text(0.9375, 0.3, 'average_basket_value <= 0.5\\nsquared_error = 0.013\\nsamples = 13\\nvalue = 0.576'),\n",
       " Text(0.90625, 0.1, 'squared_error = 0.008\\nsamples = 12\\nvalue = 0.555'),\n",
       " Text(0.96875, 0.1, 'squared_error = -0.0\\nsamples = 1\\nvalue = 0.828')]"
      ]
     },
     "execution_count": 44,
     "metadata": {},
     "output_type": "execute_result"
    },
    {
     "data": {
      "image/png": "[encoded data removed]",
      "text/plain": [
       "<Figure size 1800x1080 with 1 Axes>"
      ]
     },
     "metadata": {},
     "output_type": "display_data"
    }
   ],
   "source": [
    "# plot decission tree\n",
    "plt.figure(figsize = (25, 15))\n",
    "tree = plot_tree(\n",
    "    regressor_re_train,\n",
    "    feature_names = X.columns,\n",
    "    filled = True,\n",
    "    rounded = True,\n",
    "    fontsize = 16\n",
    ")\n",
    "\n",
    "tree"
   ]
  },
  {
   "cell_type": "markdown",
   "metadata": {},
   "source": [
    "This is a very powerful visual, and one that can be shown to stakeholders in the business to ensure they understand exactly what is driving the predictions.\n",
    "\n",
    "One interesting thing to note is that the *very first split* appears to be using the variable *distance from store* so it would seem that this is a very important variable when it comes to predicting loyalty!"
   ]
  },
  {
   "cell_type": "markdown",
   "metadata": {},
   "source": [
    "# Random Forest\n",
    "We will again utlise the scikit-learn library within Python to model our data using a Random Forest. The code sections below are broken up into 4 key sections:\n",
    "\n",
    "* Data Import\n",
    "* Data Preprocessing\n",
    "* Model Training\n",
    "* Performance Assessment\n",
    "* Feature Importance"
   ]
  },
  {
   "cell_type": "markdown",
   "metadata": {},
   "source": [
    "### Data Import"
   ]
  },
  {
   "cell_type": "code",
   "execution_count": 45,
   "metadata": {},
   "outputs": [],
   "source": [
    "# import libraries\n",
    "from sklearn.ensemble import RandomForestRegressor\n",
    "from sklearn.utils import shuffle\n",
    "from sklearn.model_selection import train_test_split, cross_val_score, KFold\n",
    "from sklearn.metrics import r2_score\n",
    "from sklearn.preprocessing import OneHotEncoder\n",
    "from sklearn.inspection import permutation_importance"
   ]
  },
  {
   "cell_type": "code",
   "execution_count": 46,
   "metadata": {},
   "outputs": [],
   "source": [
    "# import modelling data\n",
    "data_for_model = pickle.load(open(\"data/customer_loyalty_modelling.p\", \"rb\"))\n",
    "\n",
    "# drop uneccessary columns\n",
    "data_for_model.drop(\"customer_id\", axis = 1, inplace = True)\n",
    "\n",
    "# shuffle data\n",
    "data_for_model = shuffle(data_for_model, random_state = 42)"
   ]
  },
  {
   "cell_type": "markdown",
   "metadata": {},
   "source": [
    "### Data Preprocessing\n",
    "While Linear Regression is susceptible to the effects of outliers, and highly correlated input variables - Decision Trees are not, so the required preprocessing here is lighter. We still however will put in place logic for:\n",
    "\n",
    "* Missing Values\n",
    "* Encoding Categorical Variables"
   ]
  },
  {
   "cell_type": "code",
   "execution_count": 48,
   "metadata": {},
   "outputs": [
    {
     "name": "stdout",
     "output_type": "stream",
     "text": [
      "distance_from_store       2\n",
      "gender                    3\n",
      "credit_score              2\n",
      "customer_loyalty_score    0\n",
      "total_sales               0\n",
      "total_items               0\n",
      "transaction_count         0\n",
      "product_area_count        0\n",
      "average_basket_value      0\n",
      "dtype: int64\n"
     ]
    }
   ],
   "source": [
    "# deal with missing value\n",
    "print(data_for_model.isna().sum())\n",
    "data_for_model = data_for_model.dropna(how = 'any') # we don't need to use imputer in this case since we have a very small amount of na records"
   ]
  },
  {
   "cell_type": "code",
   "execution_count": 49,
   "metadata": {},
   "outputs": [],
   "source": [
    "# split input and output variables\n",
    "X = data_for_model.drop([\"customer_loyalty_score\"], axis = 1)\n",
    "y = data_for_model[\"customer_loyalty_score\"]"
   ]
  },
  {
   "cell_type": "code",
   "execution_count": 50,
   "metadata": {},
   "outputs": [],
   "source": [
    "# split data into training and test sets\n",
    "X_train, X_test, y_train, y_test = train_test_split(X, y, test_size = 0.2, random_state = 42)"
   ]
  },
  {
   "cell_type": "code",
   "execution_count": 51,
   "metadata": {},
   "outputs": [],
   "source": [
    "# deal with categorical variables\n",
    "categorical_vars = ['gender']\n",
    "\n",
    "# enstantiate one hot encoder object and apply to training and test data\n",
    "one_hot_encoder = OneHotEncoder(sparse = False, drop = 'first') # returns array, drops one of the binary categorical columns to reduce multicollinearity\n",
    "\n",
    "X_train_encoded = one_hot_encoder.fit_transform(X_train[categorical_vars])\n",
    "X_test_encoded = one_hot_encoder.transform(X_test[categorical_vars])\n",
    "\n",
    "# create object to get feature names\n",
    "encoder_feature_names = one_hot_encoder.get_feature_names_out(categorical_vars)\n",
    "\n",
    "# create data frame with encoder variables and feature names, and concat to original data frame and reset index\n",
    "X_train_encoded = pd.DataFrame(X_train_encoded, columns = encoder_feature_names)\n",
    "X_train = pd.concat([X_train.reset_index (drop = True), X_train_encoded.reset_index (drop = True)], axis = 1) # axis 1 concats columns and not rows\n",
    "X_train.drop(categorical_vars, axis = 1, inplace = True) # axis 1 drops columns and not rows\n",
    "\n",
    "X_test_encoded = pd.DataFrame(X_test_encoded, columns = encoder_feature_names)\n",
    "X_test = pd.concat([X_test.reset_index (drop = True), X_test_encoded.reset_index (drop = True)], axis = 1) # axis 1 concats columns and not rows\n",
    "X_test.drop(categorical_vars, axis = 1, inplace = True) # axis 1 drops columns and not rows"
   ]
  },
  {
   "cell_type": "markdown",
   "metadata": {},
   "source": [
    "### Model Training"
   ]
  },
  {
   "cell_type": "code",
   "execution_count": 52,
   "metadata": {},
   "outputs": [
    {
     "data": {
      "text/plain": [
       "RandomForestRegressor(random_state=42)"
      ]
     },
     "execution_count": 52,
     "metadata": {},
     "output_type": "execute_result"
    }
   ],
   "source": [
    "# train model\n",
    "regressor = RandomForestRegressor(random_state = 42)\n",
    "regressor.fit(X_train, y_train)"
   ]
  },
  {
   "cell_type": "code",
   "execution_count": 53,
   "metadata": {},
   "outputs": [],
   "source": [
    "# predict on the test set\n",
    "y_pred = regressor.predict(X_test)"
   ]
  },
  {
   "cell_type": "markdown",
   "metadata": {},
   "source": [
    "### Performance Assessment"
   ]
  },
  {
   "cell_type": "code",
   "execution_count": 54,
   "metadata": {},
   "outputs": [
    {
     "name": "stdout",
     "output_type": "stream",
     "text": [
      "R-Squared = 0.9598627943571644\n"
     ]
    }
   ],
   "source": [
    "# calculate R-Squared\n",
    "r_squared = r2_score(y_test, y_pred)\n",
    "print(f'R-Squared = {r_squared}')"
   ]
  },
  {
   "cell_type": "code",
   "execution_count": 55,
   "metadata": {},
   "outputs": [
    {
     "name": "stdout",
     "output_type": "stream",
     "text": [
      "Cross Validation Score: 0.9242052081468748\n"
     ]
    }
   ],
   "source": [
    "# cross validation\n",
    "cv = KFold(n_splits = 4, shuffle = True)\n",
    "cv_scores = cross_val_score(regressor, X_train, y_train, cv = cv, scoring = 'r2')\n",
    "print(f'Cross Validation Score: {cv_scores.mean()}')"
   ]
  },
  {
   "cell_type": "code",
   "execution_count": 56,
   "metadata": {},
   "outputs": [
    {
     "name": "stdout",
     "output_type": "stream",
     "text": [
      "Adjusted R-Squared = 0.9552756851408403\n"
     ]
    }
   ],
   "source": [
    "# calculate adjusted r-squared\n",
    "num_data_points, num_input_vars = X_test.shape # output of .shape is the number of rows and columns\n",
    "adjusted_r_squared = 1 - (1 - r_squared) * (num_data_points - 1) / (num_data_points - num_input_vars - 1)\n",
    "print(f'Adjusted R-Squared = {adjusted_r_squared}')"
   ]
  },
  {
   "cell_type": "markdown",
   "metadata": {},
   "source": [
    "### Feature Importance\n",
    "In our Linear Regression model, to understand the relationships between input variables and our ouput variable, loyalty score, we examined the coefficients.  With our Decision Tree we looked at what the earlier splits were.  These allowed us some insight into which input variables were having the most impact.\n",
    "\n",
    "Random Forests are an ensemble model, made up of many Decision Trees, each of which is different due to the randomness of the data being provided, and the random selection of input variables available at each potential split point.\n",
    "\n",
    "Because of this, we end up with a powerful and robust model, but because of the random or different nature of all these Decision trees - the model gives us a unique insight into how important each of our input variables are to the overall model.  \n",
    "\n",
    "As we’re using random samples of data, and input variables for each Decision Tree - there are many scenarios where certain input variables are being held back and this enables us a way to compare how accurate the models predictions are if that variable is or isn’t present.\n",
    "\n",
    "So, at a high level, in a Random Forest we can measure *importance* by asking *How much would accuracy decrease if a specific input variable was removed or randomised?*\n",
    "\n",
    "If this decrease in performance, or accuracy, is large, then we’d deem that input variable to be quite important, and if we see only a small decrease in accuracy, then we’d conclude that the variable is of less importance.\n",
    "\n",
    "There are two common ways to tackle this.  The first, often just called **Feature Importance** is where we find all nodes in the Decision Trees of the forest where a particular input variable is used to split the data and assess what the Mean Squared Error (for a Regression problem) was before the split was made, and compare this to the Mean Squared Error after the split was made.  We can take the *average* of these improvements across all Decision Trees in the Random Forest to get a score that tells us *how much better* we’re making the model by using that input variable.\n",
    "\n",
    "If we do this for *each* of our input variables, we can compare these scores and understand which is adding the most value to the predictive power of the model!\n",
    "\n",
    "The other approach, often called **Permutation Importance** cleverly uses some data that has gone *unused* at when random samples are selected for each Decision Tree (this stage is called \"bootstrap sampling\" or \"bootstrapping\")\n",
    "\n",
    "These observations that were not randomly selected for each Decision Tree are known as *Out of Bag* observations and these can be used for testing the accuracy of each particular Decision Tree.\n",
    "\n",
    "For each Decision Tree, all of the *Out of Bag* observations are gathered and then passed through.  Once all of these observations have been run through the Decision Tree, we obtain an accuracy score for these predictions, which in the case of a regression problem could be Mean Squared Error or r-squared.\n",
    "\n",
    "In order to understand the *importance*, we *randomise* the values within one of the input variables - a process that essentially destroys any relationship that might exist between that input variable and the output variable - and run that updated data through the Decision Tree again, obtaining a second accuracy score.  The difference between the original accuracy and the new accuracy gives us a view on how important that particular variable is for predicting the output.\n",
    "\n",
    "*Permutation Importance* is often preferred over *Feature Importance* which can at times inflate the importance of numerical features. Both are useful, and in most cases will give fairly similar results.\n",
    "\n",
    "Let's put them both in place, and plot the results..."
   ]
  },
  {
   "cell_type": "code",
   "execution_count": 57,
   "metadata": {},
   "outputs": [
    {
     "data": {
      "text/html": [
       "<div>\n",
       "<style scoped>\n",
       "    .dataframe tbody tr th:only-of-type {\n",
       "        vertical-align: middle;\n",
       "    }\n",
       "\n",
       "    .dataframe tbody tr th {\n",
       "        vertical-align: top;\n",
       "    }\n",
       "\n",
       "    .dataframe thead th {\n",
       "        text-align: right;\n",
       "    }\n",
       "</style>\n",
       "<table border=\"1\" class=\"dataframe\">\n",
       "  <thead>\n",
       "    <tr style=\"text-align: right;\">\n",
       "      <th></th>\n",
       "      <th>input_variable</th>\n",
       "      <th>feature_importance</th>\n",
       "    </tr>\n",
       "  </thead>\n",
       "  <tbody>\n",
       "    <tr>\n",
       "      <th>7</th>\n",
       "      <td>average_basket_value</td>\n",
       "      <td>0.009975</td>\n",
       "    </tr>\n",
       "    <tr>\n",
       "      <th>1</th>\n",
       "      <td>gender</td>\n",
       "      <td>0.010667</td>\n",
       "    </tr>\n",
       "    <tr>\n",
       "      <th>6</th>\n",
       "      <td>product_area_count</td>\n",
       "      <td>0.021749</td>\n",
       "    </tr>\n",
       "    <tr>\n",
       "      <th>4</th>\n",
       "      <td>total_items</td>\n",
       "      <td>0.025743</td>\n",
       "    </tr>\n",
       "    <tr>\n",
       "      <th>5</th>\n",
       "      <td>transaction_count</td>\n",
       "      <td>0.040706</td>\n",
       "    </tr>\n",
       "    <tr>\n",
       "      <th>3</th>\n",
       "      <td>total_sales</td>\n",
       "      <td>0.097606</td>\n",
       "    </tr>\n",
       "    <tr>\n",
       "      <th>2</th>\n",
       "      <td>credit_score</td>\n",
       "      <td>0.113845</td>\n",
       "    </tr>\n",
       "    <tr>\n",
       "      <th>0</th>\n",
       "      <td>distance_from_store</td>\n",
       "      <td>0.679708</td>\n",
       "    </tr>\n",
       "  </tbody>\n",
       "</table>\n",
       "</div>"
      ],
      "text/plain": [
       "         input_variable  feature_importance\n",
       "7  average_basket_value            0.009975\n",
       "1                gender            0.010667\n",
       "6    product_area_count            0.021749\n",
       "4           total_items            0.025743\n",
       "5     transaction_count            0.040706\n",
       "3           total_sales            0.097606\n",
       "2          credit_score            0.113845\n",
       "0   distance_from_store            0.679708"
      ]
     },
     "execution_count": 57,
     "metadata": {},
     "output_type": "execute_result"
    }
   ],
   "source": [
    "# feature importance summary\n",
    "feature_importance = pd.DataFrame(regressor.feature_importances_)\n",
    "feature_names = pd.DataFrame(X.columns)\n",
    "\n",
    "feature_importance_summary = pd.concat([feature_names, feature_importance], axis = 1)\n",
    "feature_importance_summary.columns = ['input_variable', 'feature_importance']\n",
    "feature_importance_summary.sort_values(by = 'feature_importance', inplace = True)\n",
    "\n",
    "feature_importance_summary"
   ]
  },
  {
   "cell_type": "code",
   "execution_count": 58,
   "metadata": {},
   "outputs": [
    {
     "data": {
      "image/png": "[encoded data removed]",
      "text/plain": [
       "<Figure size 432x288 with 1 Axes>"
      ]
     },
     "metadata": {},
     "output_type": "display_data"
    }
   ],
   "source": [
    "# feature importance bar plot\n",
    "plt.barh(\n",
    "    feature_importance_summary['input_variable'],\n",
    "    feature_importance_summary['feature_importance']\n",
    ")\n",
    "\n",
    "plt.title(\"Random Forest Feature Importance\")\n",
    "plt.xlabel('Feature Importance')\n",
    "plt.tight_layout()\n",
    "\n",
    "plt.show()"
   ]
  },
  {
   "cell_type": "code",
   "execution_count": 59,
   "metadata": {},
   "outputs": [
    {
     "data": {
      "text/plain": [
       "{'importances_mean': array([1.48933414e+00, 8.56691295e-04, 1.13477699e-01, 1.35018612e-01,\n",
       "        1.57352273e-02, 4.23130625e-02, 8.73095259e-03, 6.56652933e-03]),\n",
       " 'importances_std': array([0.12924887, 0.00113098, 0.01765377, 0.02316721, 0.00503745,\n",
       "        0.00882078, 0.00262676, 0.00193935]),\n",
       " 'importances': array([[ 1.45531636e+00,  1.36264417e+00,  1.43348174e+00,\n",
       "          1.67182069e+00,  1.57175656e+00,  1.34431514e+00,\n",
       "          1.64730937e+00,  1.32504670e+00,  1.65988650e+00,\n",
       "          1.42176418e+00],\n",
       "        [ 2.71202488e-04,  6.86845462e-05, -5.91107485e-04,\n",
       "          2.00208717e-03,  9.72065216e-04,  1.12334640e-03,\n",
       "          5.59115864e-04,  5.15264223e-04,  5.36752379e-05,\n",
       "          3.59257929e-03],\n",
       "        [ 1.26216231e-01,  1.23925534e-01,  1.31898261e-01,\n",
       "          1.35962496e-01,  1.05858197e-01,  9.57423576e-02,\n",
       "          7.45130738e-02,  1.12657361e-01,  1.21356412e-01,\n",
       "          1.06647065e-01],\n",
       "        [ 1.34783213e-01,  1.81839760e-01,  1.40012095e-01,\n",
       "          1.68661790e-01,  1.27321565e-01,  1.16417756e-01,\n",
       "          9.90073787e-02,  1.30715640e-01,  1.17827022e-01,\n",
       "          1.33599897e-01],\n",
       "        [ 1.68371086e-02,  2.56059420e-02,  1.92038681e-02,\n",
       "          2.02081091e-02,  1.26559527e-02,  7.05110631e-03,\n",
       "          1.08056787e-02,  1.36110801e-02,  1.78503872e-02,\n",
       "          1.35230398e-02],\n",
       "        [ 4.08419033e-02,  6.06418432e-02,  3.83191909e-02,\n",
       "          4.61166173e-02,  3.54290260e-02,  2.85213405e-02,\n",
       "          3.42939514e-02,  5.19406837e-02,  4.10577304e-02,\n",
       "          4.59683380e-02],\n",
       "        [ 1.18449015e-02,  1.31746687e-02,  9.24897241e-03,\n",
       "          7.12442678e-03,  1.12829803e-02,  5.16484879e-03,\n",
       "          4.74020615e-03,  7.50374316e-03,  8.70141663e-03,\n",
       "          8.52336155e-03],\n",
       "        [ 5.97273229e-03,  7.60627267e-03,  6.15761788e-03,\n",
       "          8.08581415e-03,  1.02499161e-02,  5.94846689e-03,\n",
       "          8.15985852e-03,  2.94413267e-03,  5.87484491e-03,\n",
       "          4.66563725e-03]])}"
      ]
     },
     "execution_count": 59,
     "metadata": {},
     "output_type": "execute_result"
    }
   ],
   "source": [
    "# permutation importance (decrease in model performance when particular features are randomly shuffled)\n",
    "# this is another form of feature importance\n",
    "permutation_result = permutation_importance(regressor, X_test, y_test, n_repeats = 10) # n_repeats number of times random shuffling is applied\n",
    "permutation_result"
   ]
  },
  {
   "cell_type": "code",
   "execution_count": 60,
   "metadata": {},
   "outputs": [
    {
     "data": {
      "text/html": [
       "<div>\n",
       "<style scoped>\n",
       "    .dataframe tbody tr th:only-of-type {\n",
       "        vertical-align: middle;\n",
       "    }\n",
       "\n",
       "    .dataframe tbody tr th {\n",
       "        vertical-align: top;\n",
       "    }\n",
       "\n",
       "    .dataframe thead th {\n",
       "        text-align: right;\n",
       "    }\n",
       "</style>\n",
       "<table border=\"1\" class=\"dataframe\">\n",
       "  <thead>\n",
       "    <tr style=\"text-align: right;\">\n",
       "      <th></th>\n",
       "      <th>input_variable</th>\n",
       "      <th>permutation_importance</th>\n",
       "    </tr>\n",
       "  </thead>\n",
       "  <tbody>\n",
       "    <tr>\n",
       "      <th>1</th>\n",
       "      <td>gender</td>\n",
       "      <td>0.000857</td>\n",
       "    </tr>\n",
       "    <tr>\n",
       "      <th>7</th>\n",
       "      <td>average_basket_value</td>\n",
       "      <td>0.006567</td>\n",
       "    </tr>\n",
       "    <tr>\n",
       "      <th>6</th>\n",
       "      <td>product_area_count</td>\n",
       "      <td>0.008731</td>\n",
       "    </tr>\n",
       "    <tr>\n",
       "      <th>4</th>\n",
       "      <td>total_items</td>\n",
       "      <td>0.015735</td>\n",
       "    </tr>\n",
       "    <tr>\n",
       "      <th>5</th>\n",
       "      <td>transaction_count</td>\n",
       "      <td>0.042313</td>\n",
       "    </tr>\n",
       "    <tr>\n",
       "      <th>2</th>\n",
       "      <td>credit_score</td>\n",
       "      <td>0.113478</td>\n",
       "    </tr>\n",
       "    <tr>\n",
       "      <th>3</th>\n",
       "      <td>total_sales</td>\n",
       "      <td>0.135019</td>\n",
       "    </tr>\n",
       "    <tr>\n",
       "      <th>0</th>\n",
       "      <td>distance_from_store</td>\n",
       "      <td>1.489334</td>\n",
       "    </tr>\n",
       "  </tbody>\n",
       "</table>\n",
       "</div>"
      ],
      "text/plain": [
       "         input_variable  permutation_importance\n",
       "1                gender                0.000857\n",
       "7  average_basket_value                0.006567\n",
       "6    product_area_count                0.008731\n",
       "4           total_items                0.015735\n",
       "5     transaction_count                0.042313\n",
       "2          credit_score                0.113478\n",
       "3           total_sales                0.135019\n",
       "0   distance_from_store                1.489334"
      ]
     },
     "execution_count": 60,
     "metadata": {},
     "output_type": "execute_result"
    }
   ],
   "source": [
    "# permutation importance summary\n",
    "permutation_importance = pd.DataFrame(permutation_result['importances_mean']) # average importance result for each input variable\n",
    "feature_names = pd.DataFrame(X.columns)\n",
    "\n",
    "permutation_importance_summary = pd.concat([feature_names, permutation_importance], axis = 1)\n",
    "permutation_importance_summary.columns = ['input_variable', 'permutation_importance']\n",
    "permutation_importance_summary.sort_values(by = 'permutation_importance', inplace = True)\n",
    "\n",
    "permutation_importance_summary"
   ]
  },
  {
   "cell_type": "code",
   "execution_count": 61,
   "metadata": {},
   "outputs": [
    {
     "data": {
      "image/png": "[encoded data removed]",
      "text/plain": [
       "<Figure size 432x288 with 1 Axes>"
      ]
     },
     "metadata": {},
     "output_type": "display_data"
    }
   ],
   "source": [
    "# permutation importance bar plot\n",
    "plt.barh(\n",
    "    permutation_importance_summary['input_variable'],\n",
    "    permutation_importance_summary['permutation_importance']\n",
    ")\n",
    "\n",
    "plt.title(\"Random Forest Permutation Importance\")\n",
    "plt.xlabel('Permutation Importance')\n",
    "plt.tight_layout()\n",
    "\n",
    "plt.show()"
   ]
  },
  {
   "cell_type": "markdown",
   "metadata": {},
   "source": [
    "The overall story from both approaches is very similar. The most important or impactful input variable is *distance_from_store* which is the same insights we derived when assessing our Linear Regression & Decision Tree models.\n",
    "\n",
    "There are slight differences in the order or \"importance\" for the remaining variables but overall they have provided similar findings."
   ]
  },
  {
   "cell_type": "code",
   "execution_count": 63,
   "metadata": {},
   "outputs": [],
   "source": [
    "# save objects to predict loyalty scores for customers that the agency could not match\n",
    "pickle.dump(regressor, open('data/random_forest_regression_model.p', 'wb'))\n",
    "pickle.dump(one_hot_encoder, open('data/random_forest_regression_model_ohe.p', 'wb'))"
   ]
  },
  {
   "cell_type": "markdown",
   "metadata": {},
   "source": [
    "# Predicting Missing Loyalty Scores\n",
    "We have selected the model to use (Random Forest) and now we need to make the *loyalty_score* predictions for those customers that the market research consultancy were unable to tag.\n",
    "\n",
    "We cannot just pass the data for these customers into the model, as is - we need to ensure the data is in exactly the same format as what was used when training the model.\n",
    "\n",
    "In the following code, we will\n",
    "\n",
    "* Import the required packages for preprocessing\n",
    "* Import the data for those customers who are missing a *loyalty_score* value\n",
    "* Import our model object & any preprocessing artifacts\n",
    "* Drop columns that were not used when training the model (customer_id)\n",
    "* Drop rows with missing values\n",
    "* Apply One Hot Encoding to the gender column (using transform)\n",
    "* Make the predictions using .predict()"
   ]
  },
  {
   "cell_type": "code",
   "execution_count": 62,
   "metadata": {},
   "outputs": [
    {
     "data": {
      "text/html": [
       "<div>\n",
       "<style scoped>\n",
       "    .dataframe tbody tr th:only-of-type {\n",
       "        vertical-align: middle;\n",
       "    }\n",
       "\n",
       "    .dataframe tbody tr th {\n",
       "        vertical-align: top;\n",
       "    }\n",
       "\n",
       "    .dataframe thead th {\n",
       "        text-align: right;\n",
       "    }\n",
       "</style>\n",
       "<table border=\"1\" class=\"dataframe\">\n",
       "  <thead>\n",
       "    <tr style=\"text-align: right;\">\n",
       "      <th></th>\n",
       "      <th>customer_id</th>\n",
       "      <th>distance_from_store</th>\n",
       "      <th>gender</th>\n",
       "      <th>credit_score</th>\n",
       "      <th>total_sales</th>\n",
       "      <th>total_items</th>\n",
       "      <th>transaction_count</th>\n",
       "      <th>product_area_count</th>\n",
       "      <th>average_basket_value</th>\n",
       "    </tr>\n",
       "  </thead>\n",
       "  <tbody>\n",
       "    <tr>\n",
       "      <th>6</th>\n",
       "      <td>1</td>\n",
       "      <td>4.78</td>\n",
       "      <td>F</td>\n",
       "      <td>0.66</td>\n",
       "      <td>3980.49</td>\n",
       "      <td>424</td>\n",
       "      <td>51</td>\n",
       "      <td>5</td>\n",
       "      <td>78.048824</td>\n",
       "    </tr>\n",
       "    <tr>\n",
       "      <th>7</th>\n",
       "      <td>120</td>\n",
       "      <td>3.49</td>\n",
       "      <td>F</td>\n",
       "      <td>0.38</td>\n",
       "      <td>2887.20</td>\n",
       "      <td>253</td>\n",
       "      <td>45</td>\n",
       "      <td>5</td>\n",
       "      <td>64.160000</td>\n",
       "    </tr>\n",
       "    <tr>\n",
       "      <th>8</th>\n",
       "      <td>52</td>\n",
       "      <td>14.91</td>\n",
       "      <td>F</td>\n",
       "      <td>0.68</td>\n",
       "      <td>3342.75</td>\n",
       "      <td>335</td>\n",
       "      <td>47</td>\n",
       "      <td>5</td>\n",
       "      <td>71.122340</td>\n",
       "    </tr>\n",
       "    <tr>\n",
       "      <th>10</th>\n",
       "      <td>435</td>\n",
       "      <td>0.25</td>\n",
       "      <td>M</td>\n",
       "      <td>0.62</td>\n",
       "      <td>2326.71</td>\n",
       "      <td>267</td>\n",
       "      <td>48</td>\n",
       "      <td>5</td>\n",
       "      <td>48.473125</td>\n",
       "    </tr>\n",
       "    <tr>\n",
       "      <th>12</th>\n",
       "      <td>679</td>\n",
       "      <td>4.74</td>\n",
       "      <td>F</td>\n",
       "      <td>0.58</td>\n",
       "      <td>3448.59</td>\n",
       "      <td>370</td>\n",
       "      <td>49</td>\n",
       "      <td>5</td>\n",
       "      <td>70.379388</td>\n",
       "    </tr>\n",
       "  </tbody>\n",
       "</table>\n",
       "</div>"
      ],
      "text/plain": [
       "    customer_id  distance_from_store gender  credit_score  total_sales  \\\n",
       "6             1                 4.78      F          0.66      3980.49   \n",
       "7           120                 3.49      F          0.38      2887.20   \n",
       "8            52                14.91      F          0.68      3342.75   \n",
       "10          435                 0.25      M          0.62      2326.71   \n",
       "12          679                 4.74      F          0.58      3448.59   \n",
       "\n",
       "    total_items  transaction_count  product_area_count  average_basket_value  \n",
       "6           424                 51                   5             78.048824  \n",
       "7           253                 45                   5             64.160000  \n",
       "8           335                 47                   5             71.122340  \n",
       "10          267                 48                   5             48.473125  \n",
       "12          370                 49                   5             70.379388  "
      ]
     },
     "execution_count": 62,
     "metadata": {},
     "output_type": "execute_result"
    }
   ],
   "source": [
    "# import customers for scoring\n",
    "to_be_scored = pickle.load(open('data/customer_loyalty_scoring.p', 'rb'))\n",
    "to_be_scored.head()"
   ]
  },
  {
   "cell_type": "code",
   "execution_count": 64,
   "metadata": {},
   "outputs": [],
   "source": [
    "# import model and model objects\n",
    "regressor = pickle.load(open('data/random_forest_regression_model.p', 'rb'))\n",
    "one_hot_encoder = pickle.load(open('data/random_forest_regression_model_ohe.p', 'rb'))"
   ]
  },
  {
   "cell_type": "code",
   "execution_count": 65,
   "metadata": {},
   "outputs": [
    {
     "data": {
      "text/html": [
       "<div>\n",
       "<style scoped>\n",
       "    .dataframe tbody tr th:only-of-type {\n",
       "        vertical-align: middle;\n",
       "    }\n",
       "\n",
       "    .dataframe tbody tr th {\n",
       "        vertical-align: top;\n",
       "    }\n",
       "\n",
       "    .dataframe thead th {\n",
       "        text-align: right;\n",
       "    }\n",
       "</style>\n",
       "<table border=\"1\" class=\"dataframe\">\n",
       "  <thead>\n",
       "    <tr style=\"text-align: right;\">\n",
       "      <th></th>\n",
       "      <th>distance_from_store</th>\n",
       "      <th>gender</th>\n",
       "      <th>credit_score</th>\n",
       "      <th>total_sales</th>\n",
       "      <th>total_items</th>\n",
       "      <th>transaction_count</th>\n",
       "      <th>product_area_count</th>\n",
       "      <th>average_basket_value</th>\n",
       "    </tr>\n",
       "  </thead>\n",
       "  <tbody>\n",
       "    <tr>\n",
       "      <th>6</th>\n",
       "      <td>4.78</td>\n",
       "      <td>F</td>\n",
       "      <td>0.66</td>\n",
       "      <td>3980.49</td>\n",
       "      <td>424</td>\n",
       "      <td>51</td>\n",
       "      <td>5</td>\n",
       "      <td>78.048824</td>\n",
       "    </tr>\n",
       "    <tr>\n",
       "      <th>7</th>\n",
       "      <td>3.49</td>\n",
       "      <td>F</td>\n",
       "      <td>0.38</td>\n",
       "      <td>2887.20</td>\n",
       "      <td>253</td>\n",
       "      <td>45</td>\n",
       "      <td>5</td>\n",
       "      <td>64.160000</td>\n",
       "    </tr>\n",
       "    <tr>\n",
       "      <th>8</th>\n",
       "      <td>14.91</td>\n",
       "      <td>F</td>\n",
       "      <td>0.68</td>\n",
       "      <td>3342.75</td>\n",
       "      <td>335</td>\n",
       "      <td>47</td>\n",
       "      <td>5</td>\n",
       "      <td>71.122340</td>\n",
       "    </tr>\n",
       "    <tr>\n",
       "      <th>10</th>\n",
       "      <td>0.25</td>\n",
       "      <td>M</td>\n",
       "      <td>0.62</td>\n",
       "      <td>2326.71</td>\n",
       "      <td>267</td>\n",
       "      <td>48</td>\n",
       "      <td>5</td>\n",
       "      <td>48.473125</td>\n",
       "    </tr>\n",
       "    <tr>\n",
       "      <th>12</th>\n",
       "      <td>4.74</td>\n",
       "      <td>F</td>\n",
       "      <td>0.58</td>\n",
       "      <td>3448.59</td>\n",
       "      <td>370</td>\n",
       "      <td>49</td>\n",
       "      <td>5</td>\n",
       "      <td>70.379388</td>\n",
       "    </tr>\n",
       "  </tbody>\n",
       "</table>\n",
       "</div>"
      ],
      "text/plain": [
       "    distance_from_store gender  credit_score  total_sales  total_items  \\\n",
       "6                  4.78      F          0.66      3980.49          424   \n",
       "7                  3.49      F          0.38      2887.20          253   \n",
       "8                 14.91      F          0.68      3342.75          335   \n",
       "10                 0.25      M          0.62      2326.71          267   \n",
       "12                 4.74      F          0.58      3448.59          370   \n",
       "\n",
       "    transaction_count  product_area_count  average_basket_value  \n",
       "6                  51                   5             78.048824  \n",
       "7                  45                   5             64.160000  \n",
       "8                  47                   5             71.122340  \n",
       "10                 48                   5             48.473125  \n",
       "12                 49                   5             70.379388  "
      ]
     },
     "execution_count": 65,
     "metadata": {},
     "output_type": "execute_result"
    }
   ],
   "source": [
    "# drop unused column (customer_id)\n",
    "to_be_scored.drop(['customer_id'], axis = 1, inplace = True)\n",
    "to_be_scored.head()"
   ]
  },
  {
   "cell_type": "code",
   "execution_count": 66,
   "metadata": {},
   "outputs": [
    {
     "data": {
      "text/plain": [
       "distance_from_store     0\n",
       "gender                  0\n",
       "credit_score            0\n",
       "total_sales             0\n",
       "total_items             0\n",
       "transaction_count       0\n",
       "product_area_count      0\n",
       "average_basket_value    0\n",
       "dtype: int64"
      ]
     },
     "execution_count": 66,
     "metadata": {},
     "output_type": "execute_result"
    }
   ],
   "source": [
    "# drop missing values\n",
    "to_be_scored.dropna(how = 'any', inplace = True)\n",
    "to_be_scored.isna().sum()"
   ]
  },
  {
   "cell_type": "code",
   "execution_count": 67,
   "metadata": {},
   "outputs": [],
   "source": [
    "# add columns to apply one hot encoding into a list\n",
    "categorical_vars = ['gender']"
   ]
  },
  {
   "cell_type": "code",
   "execution_count": 68,
   "metadata": {},
   "outputs": [],
   "source": [
    "# apply one hot encoder object\n",
    "encoder_vars_array = one_hot_encoder.transform(to_be_scored[categorical_vars])"
   ]
  },
  {
   "cell_type": "code",
   "execution_count": 70,
   "metadata": {},
   "outputs": [],
   "source": [
    "# create object to get feature names\n",
    "encoder_feature_names = one_hot_encoder.get_feature_names_out(categorical_vars)"
   ]
  },
  {
   "cell_type": "code",
   "execution_count": 71,
   "metadata": {},
   "outputs": [
    {
     "data": {
      "text/html": [
       "<div>\n",
       "<style scoped>\n",
       "    .dataframe tbody tr th:only-of-type {\n",
       "        vertical-align: middle;\n",
       "    }\n",
       "\n",
       "    .dataframe tbody tr th {\n",
       "        vertical-align: top;\n",
       "    }\n",
       "\n",
       "    .dataframe thead th {\n",
       "        text-align: right;\n",
       "    }\n",
       "</style>\n",
       "<table border=\"1\" class=\"dataframe\">\n",
       "  <thead>\n",
       "    <tr style=\"text-align: right;\">\n",
       "      <th></th>\n",
       "      <th>gender_M</th>\n",
       "    </tr>\n",
       "  </thead>\n",
       "  <tbody>\n",
       "    <tr>\n",
       "      <th>458</th>\n",
       "      <td>0.0</td>\n",
       "    </tr>\n",
       "    <tr>\n",
       "      <th>459</th>\n",
       "      <td>1.0</td>\n",
       "    </tr>\n",
       "    <tr>\n",
       "      <th>460</th>\n",
       "      <td>1.0</td>\n",
       "    </tr>\n",
       "    <tr>\n",
       "      <th>461</th>\n",
       "      <td>0.0</td>\n",
       "    </tr>\n",
       "    <tr>\n",
       "      <th>462</th>\n",
       "      <td>1.0</td>\n",
       "    </tr>\n",
       "  </tbody>\n",
       "</table>\n",
       "</div>"
      ],
      "text/plain": [
       "     gender_M\n",
       "458       0.0\n",
       "459       1.0\n",
       "460       1.0\n",
       "461       0.0\n",
       "462       1.0"
      ]
     },
     "execution_count": 71,
     "metadata": {},
     "output_type": "execute_result"
    }
   ],
   "source": [
    "# create data frame with encoder variables and feature names\n",
    "encoder_vars_df = pd.DataFrame(encoder_vars_array, columns = encoder_feature_names)\n",
    "encoder_vars_df.tail()"
   ]
  },
  {
   "cell_type": "code",
   "execution_count": 72,
   "metadata": {},
   "outputs": [
    {
     "data": {
      "text/html": [
       "<div>\n",
       "<style scoped>\n",
       "    .dataframe tbody tr th:only-of-type {\n",
       "        vertical-align: middle;\n",
       "    }\n",
       "\n",
       "    .dataframe tbody tr th {\n",
       "        vertical-align: top;\n",
       "    }\n",
       "\n",
       "    .dataframe thead th {\n",
       "        text-align: right;\n",
       "    }\n",
       "</style>\n",
       "<table border=\"1\" class=\"dataframe\">\n",
       "  <thead>\n",
       "    <tr style=\"text-align: right;\">\n",
       "      <th></th>\n",
       "      <th>distance_from_store</th>\n",
       "      <th>gender</th>\n",
       "      <th>credit_score</th>\n",
       "      <th>total_sales</th>\n",
       "      <th>total_items</th>\n",
       "      <th>transaction_count</th>\n",
       "      <th>product_area_count</th>\n",
       "      <th>average_basket_value</th>\n",
       "      <th>gender_M</th>\n",
       "    </tr>\n",
       "  </thead>\n",
       "  <tbody>\n",
       "    <tr>\n",
       "      <th>458</th>\n",
       "      <td>400.97</td>\n",
       "      <td>F</td>\n",
       "      <td>0.54</td>\n",
       "      <td>4072.86</td>\n",
       "      <td>346</td>\n",
       "      <td>45</td>\n",
       "      <td>5</td>\n",
       "      <td>90.508000</td>\n",
       "      <td>0.0</td>\n",
       "    </tr>\n",
       "    <tr>\n",
       "      <th>459</th>\n",
       "      <td>0.32</td>\n",
       "      <td>M</td>\n",
       "      <td>0.38</td>\n",
       "      <td>3097.99</td>\n",
       "      <td>281</td>\n",
       "      <td>51</td>\n",
       "      <td>5</td>\n",
       "      <td>60.744902</td>\n",
       "      <td>1.0</td>\n",
       "    </tr>\n",
       "    <tr>\n",
       "      <th>460</th>\n",
       "      <td>1.62</td>\n",
       "      <td>M</td>\n",
       "      <td>0.63</td>\n",
       "      <td>3736.02</td>\n",
       "      <td>250</td>\n",
       "      <td>46</td>\n",
       "      <td>5</td>\n",
       "      <td>81.217826</td>\n",
       "      <td>1.0</td>\n",
       "    </tr>\n",
       "    <tr>\n",
       "      <th>461</th>\n",
       "      <td>4.36</td>\n",
       "      <td>F</td>\n",
       "      <td>0.54</td>\n",
       "      <td>4407.12</td>\n",
       "      <td>354</td>\n",
       "      <td>47</td>\n",
       "      <td>5</td>\n",
       "      <td>93.768511</td>\n",
       "      <td>0.0</td>\n",
       "    </tr>\n",
       "    <tr>\n",
       "      <th>462</th>\n",
       "      <td>1.87</td>\n",
       "      <td>M</td>\n",
       "      <td>0.59</td>\n",
       "      <td>3067.83</td>\n",
       "      <td>254</td>\n",
       "      <td>53</td>\n",
       "      <td>5</td>\n",
       "      <td>57.883585</td>\n",
       "      <td>1.0</td>\n",
       "    </tr>\n",
       "  </tbody>\n",
       "</table>\n",
       "</div>"
      ],
      "text/plain": [
       "     distance_from_store gender  credit_score  total_sales  total_items  \\\n",
       "458               400.97      F          0.54      4072.86          346   \n",
       "459                 0.32      M          0.38      3097.99          281   \n",
       "460                 1.62      M          0.63      3736.02          250   \n",
       "461                 4.36      F          0.54      4407.12          354   \n",
       "462                 1.87      M          0.59      3067.83          254   \n",
       "\n",
       "     transaction_count  product_area_count  average_basket_value  gender_M  \n",
       "458                 45                   5             90.508000       0.0  \n",
       "459                 51                   5             60.744902       1.0  \n",
       "460                 46                   5             81.217826       1.0  \n",
       "461                 47                   5             93.768511       0.0  \n",
       "462                 53                   5             57.883585       1.0  "
      ]
     },
     "execution_count": 72,
     "metadata": {},
     "output_type": "execute_result"
    }
   ],
   "source": [
    "# concat new dataframe to original resetting index (ensures no rows are misaligned)\n",
    "to_be_scored = pd.concat([\n",
    "    to_be_scored.reset_index(drop = True), \n",
    "    encoder_vars_df.reset_index(drop = True)], \n",
    "    axis = 1) # axis 1 concats columns and not rows\n",
    "    \n",
    "to_be_scored.tail()"
   ]
  },
  {
   "cell_type": "code",
   "execution_count": 73,
   "metadata": {},
   "outputs": [
    {
     "data": {
      "text/html": [
       "<div>\n",
       "<style scoped>\n",
       "    .dataframe tbody tr th:only-of-type {\n",
       "        vertical-align: middle;\n",
       "    }\n",
       "\n",
       "    .dataframe tbody tr th {\n",
       "        vertical-align: top;\n",
       "    }\n",
       "\n",
       "    .dataframe thead th {\n",
       "        text-align: right;\n",
       "    }\n",
       "</style>\n",
       "<table border=\"1\" class=\"dataframe\">\n",
       "  <thead>\n",
       "    <tr style=\"text-align: right;\">\n",
       "      <th></th>\n",
       "      <th>distance_from_store</th>\n",
       "      <th>credit_score</th>\n",
       "      <th>total_sales</th>\n",
       "      <th>total_items</th>\n",
       "      <th>transaction_count</th>\n",
       "      <th>product_area_count</th>\n",
       "      <th>average_basket_value</th>\n",
       "      <th>gender_M</th>\n",
       "    </tr>\n",
       "  </thead>\n",
       "  <tbody>\n",
       "    <tr>\n",
       "      <th>458</th>\n",
       "      <td>400.97</td>\n",
       "      <td>0.54</td>\n",
       "      <td>4072.86</td>\n",
       "      <td>346</td>\n",
       "      <td>45</td>\n",
       "      <td>5</td>\n",
       "      <td>90.508000</td>\n",
       "      <td>0.0</td>\n",
       "    </tr>\n",
       "    <tr>\n",
       "      <th>459</th>\n",
       "      <td>0.32</td>\n",
       "      <td>0.38</td>\n",
       "      <td>3097.99</td>\n",
       "      <td>281</td>\n",
       "      <td>51</td>\n",
       "      <td>5</td>\n",
       "      <td>60.744902</td>\n",
       "      <td>1.0</td>\n",
       "    </tr>\n",
       "    <tr>\n",
       "      <th>460</th>\n",
       "      <td>1.62</td>\n",
       "      <td>0.63</td>\n",
       "      <td>3736.02</td>\n",
       "      <td>250</td>\n",
       "      <td>46</td>\n",
       "      <td>5</td>\n",
       "      <td>81.217826</td>\n",
       "      <td>1.0</td>\n",
       "    </tr>\n",
       "    <tr>\n",
       "      <th>461</th>\n",
       "      <td>4.36</td>\n",
       "      <td>0.54</td>\n",
       "      <td>4407.12</td>\n",
       "      <td>354</td>\n",
       "      <td>47</td>\n",
       "      <td>5</td>\n",
       "      <td>93.768511</td>\n",
       "      <td>0.0</td>\n",
       "    </tr>\n",
       "    <tr>\n",
       "      <th>462</th>\n",
       "      <td>1.87</td>\n",
       "      <td>0.59</td>\n",
       "      <td>3067.83</td>\n",
       "      <td>254</td>\n",
       "      <td>53</td>\n",
       "      <td>5</td>\n",
       "      <td>57.883585</td>\n",
       "      <td>1.0</td>\n",
       "    </tr>\n",
       "  </tbody>\n",
       "</table>\n",
       "</div>"
      ],
      "text/plain": [
       "     distance_from_store  credit_score  total_sales  total_items  \\\n",
       "458               400.97          0.54      4072.86          346   \n",
       "459                 0.32          0.38      3097.99          281   \n",
       "460                 1.62          0.63      3736.02          250   \n",
       "461                 4.36          0.54      4407.12          354   \n",
       "462                 1.87          0.59      3067.83          254   \n",
       "\n",
       "     transaction_count  product_area_count  average_basket_value  gender_M  \n",
       "458                 45                   5             90.508000       0.0  \n",
       "459                 51                   5             60.744902       1.0  \n",
       "460                 46                   5             81.217826       1.0  \n",
       "461                 47                   5             93.768511       0.0  \n",
       "462                 53                   5             57.883585       1.0  "
      ]
     },
     "execution_count": 73,
     "metadata": {},
     "output_type": "execute_result"
    }
   ],
   "source": [
    "# drop original categorical columns\n",
    "to_be_scored.drop(categorical_vars, axis = 1, inplace = True) # axis 1 drops columns and not rows\n",
    "to_be_scored.tail()"
   ]
  },
  {
   "cell_type": "code",
   "execution_count": 74,
   "metadata": {},
   "outputs": [
    {
     "data": {
      "text/plain": [
       "array([0.42641, 0.32992, 0.34719, 0.93166, 0.3849 , 0.93566, 0.43343,\n",
       "       0.73502, 0.31208, 0.74406, 0.43255, 0.51648, 0.44943, 0.49396,\n",
       "       0.51378, 0.35195, 0.79852, 0.27749, 0.9132 , 0.39764, 0.28666,\n",
       "       0.57642, 0.45266, 0.30921, 0.6539 , 0.42941, 0.5505 , 0.90092,\n",
       "       0.5734 , 0.32631, 0.35492, 0.41621, 0.47523, 0.56345, 0.67158,\n",
       "       0.34009, 0.33038, 0.89301, 0.36622, 0.44413, 0.85157, 0.72539,\n",
       "       0.45002, 0.93642, 0.94507, 0.22433, 0.39676, 0.96111, 0.53929,\n",
       "       0.44196, 0.8682 , 0.86839, 0.73586, 0.29151, 0.60416, 0.84114,\n",
       "       0.23933, 0.3014 , 0.24201, 0.24305, 0.24934, 0.87329, 0.86826,\n",
       "       0.55587, 0.39386, 0.57611, 0.92211, 0.41034, 0.9446 , 0.25769,\n",
       "       0.61682, 0.45259, 0.64507, 0.49405, 0.62185, 0.39843, 0.16508,\n",
       "       0.61596, 0.7924 , 0.54604, 0.28182, 0.29235, 0.30199, 0.71632,\n",
       "       0.56894, 0.2379 , 0.36931, 0.28792, 0.40425, 0.37513, 0.39393,\n",
       "       0.90329, 0.91231, 0.26916, 0.38641, 0.38063, 0.87808, 0.53341,\n",
       "       0.31401, 0.92022, 0.28421, 0.22333, 0.29671, 0.72241, 0.71109,\n",
       "       0.44478, 0.80592, 0.51689, 0.29636, 0.85891, 0.93109, 0.29279,\n",
       "       0.27718, 0.37517, 0.24839, 0.24201, 0.21925, 0.51374, 0.28497,\n",
       "       0.88146, 0.63028, 0.2433 , 0.33895, 0.86955, 0.62025, 0.45636,\n",
       "       0.47857, 0.74885, 0.20443, 0.42924, 0.24584, 0.53652, 0.39955,\n",
       "       0.73547, 0.93121, 0.76077, 0.29743, 0.85079, 0.64271, 0.1637 ,\n",
       "       0.47868, 0.18868, 0.5167 , 0.82551, 0.80383, 0.50916, 0.67587,\n",
       "       0.17159, 0.40686, 0.538  , 0.40701, 0.36032, 0.34631, 0.19037,\n",
       "       0.29645, 0.54229, 0.77591, 0.22881, 0.56545, 0.80365, 0.10114,\n",
       "       0.09471, 0.09955, 0.14688, 0.09349, 0.19394, 0.25337, 0.29031,\n",
       "       0.36958, 0.36677, 0.38093, 0.79082, 0.20437, 0.77797, 0.15015,\n",
       "       0.20907, 0.34256, 0.17533, 0.88382, 0.10741, 0.09883, 0.22342,\n",
       "       0.90502, 0.54847, 0.87578, 0.55508, 0.89142, 0.56908, 0.57058,\n",
       "       0.81966, 0.78845, 0.74783, 0.26777, 0.50547, 0.44314, 0.27999,\n",
       "       0.20889, 0.16085, 0.45665, 0.85375, 0.46467, 0.24278, 0.45143,\n",
       "       0.14246, 0.80031, 0.4471 , 0.86823, 0.16405, 0.10665, 0.73568,\n",
       "       0.11098, 0.20651, 0.55887, 0.38577, 0.77804, 0.70519, 0.62433,\n",
       "       0.89597, 0.7548 , 0.74926, 0.65525, 0.73601, 0.70541, 0.83293,\n",
       "       0.83501, 0.72453, 0.79258, 0.77518, 0.77704, 0.75239, 0.8344 ,\n",
       "       0.88867, 0.66647, 0.69458, 0.75838, 0.77232, 0.77505, 0.84193,\n",
       "       0.57867, 0.72896, 0.76661, 0.80051, 0.89353, 0.82548, 0.90156,\n",
       "       0.78061, 0.69444, 0.82633, 0.77937, 0.89444, 0.70504, 0.78151,\n",
       "       0.78572, 0.76261, 0.79878, 0.82676, 0.60511, 0.77192, 0.89106,\n",
       "       0.79409, 0.8619 , 0.79748, 0.81815, 0.86553, 0.75754, 0.88753,\n",
       "       0.74557, 0.38952, 0.73299, 0.46052, 0.47823, 0.82325, 0.41464,\n",
       "       0.56388, 0.44853, 0.39471, 0.57038, 0.45675, 0.84018, 0.51212,\n",
       "       0.51354, 0.67535, 0.52224, 0.58184, 0.68572, 0.59521, 0.60686,\n",
       "       0.42119, 0.79707, 0.479  , 0.86083, 0.36057, 0.84164, 0.36619,\n",
       "       0.79337, 0.36109, 0.90282, 0.43473, 0.33075, 0.43869, 0.51379,\n",
       "       0.50624, 0.45304, 0.40159, 0.58863, 0.78923, 0.80982, 0.38097,\n",
       "       0.80358, 0.56577, 0.35922, 0.84128, 0.68694, 0.76794, 0.66276,\n",
       "       0.75062, 0.46246, 0.72962, 0.40661, 0.36385, 0.17785, 0.07135,\n",
       "       0.52469, 0.49615, 0.05388, 0.33145, 0.12559, 0.31739, 0.03712,\n",
       "       0.45152, 0.14704, 0.05043, 0.11267, 0.39101, 0.41657, 0.31623,\n",
       "       0.38067, 0.02059, 0.2717 , 0.38581, 0.15604, 0.06667, 0.72873,\n",
       "       0.17917, 0.18208, 0.116  , 0.03068, 0.03247, 0.1795 , 0.29188,\n",
       "       0.16501, 0.028  , 0.25335, 0.76132, 0.10452, 0.01109, 0.05599,\n",
       "       0.6364 , 0.04439, 0.54421, 0.72229, 0.1828 , 0.04143, 0.04596,\n",
       "       0.30211, 0.65218, 0.6522 , 0.06261, 0.06702, 0.55115, 0.26592,\n",
       "       0.04065, 0.38072, 0.14814, 0.25214, 0.40083, 0.06718, 0.04978,\n",
       "       0.27081, 0.763  , 0.27274, 0.01991, 0.20738, 0.15419, 0.03173,\n",
       "       0.4583 , 0.02311, 0.07049, 0.25695, 0.25517, 0.74189, 0.53389,\n",
       "       0.05167, 0.21553, 0.03542, 0.09117, 0.31496, 0.12871, 0.04534,\n",
       "       0.50676, 0.058  , 0.25705, 0.63532, 0.04603, 0.56068, 0.04244,\n",
       "       0.35448, 0.05087, 0.0849 , 0.07654, 0.29115, 0.17515, 0.1729 ,\n",
       "       0.44585, 0.07481, 0.24778, 0.39697, 0.01679, 0.01172, 0.03086,\n",
       "       0.08979, 0.52285, 0.52424, 0.51683, 0.6811 , 0.77374, 0.52222,\n",
       "       0.98309, 0.68777, 0.9142 , 0.52805, 0.5443 , 0.72888, 0.91056,\n",
       "       0.54519, 0.51669, 0.61829, 0.55545, 0.91795, 0.86077, 0.77379,\n",
       "       0.71516, 0.35747, 0.67392, 0.4591 , 0.90351, 0.65106, 0.93858,\n",
       "       0.46215, 0.82747, 0.9599 , 0.67425, 0.58229, 0.41303, 0.61726,\n",
       "       0.89449, 0.95936, 0.70956, 0.36794, 0.92925, 0.6732 , 0.36973,\n",
       "       0.61284])"
      ]
     },
     "execution_count": 74,
     "metadata": {},
     "output_type": "execute_result"
    }
   ],
   "source": [
    "# make our predictions\n",
    "loyalty_predictions = regressor.predict(to_be_scored)\n",
    "loyalty_predictions"
   ]
  },
  {
   "cell_type": "code",
   "execution_count": 75,
   "metadata": {},
   "outputs": [
    {
     "data": {
      "text/html": [
       "<div>\n",
       "<style scoped>\n",
       "    .dataframe tbody tr th:only-of-type {\n",
       "        vertical-align: middle;\n",
       "    }\n",
       "\n",
       "    .dataframe tbody tr th {\n",
       "        vertical-align: top;\n",
       "    }\n",
       "\n",
       "    .dataframe thead th {\n",
       "        text-align: right;\n",
       "    }\n",
       "</style>\n",
       "<table border=\"1\" class=\"dataframe\">\n",
       "  <thead>\n",
       "    <tr style=\"text-align: right;\">\n",
       "      <th></th>\n",
       "      <th>distance_from_store</th>\n",
       "      <th>credit_score</th>\n",
       "      <th>total_sales</th>\n",
       "      <th>total_items</th>\n",
       "      <th>transaction_count</th>\n",
       "      <th>product_area_count</th>\n",
       "      <th>average_basket_value</th>\n",
       "      <th>gender_M</th>\n",
       "      <th>loyalty_prediction</th>\n",
       "    </tr>\n",
       "  </thead>\n",
       "  <tbody>\n",
       "    <tr>\n",
       "      <th>0</th>\n",
       "      <td>4.78</td>\n",
       "      <td>0.66</td>\n",
       "      <td>3980.49</td>\n",
       "      <td>424</td>\n",
       "      <td>51</td>\n",
       "      <td>5</td>\n",
       "      <td>78.048824</td>\n",
       "      <td>0.0</td>\n",
       "      <td>0.42641</td>\n",
       "    </tr>\n",
       "    <tr>\n",
       "      <th>1</th>\n",
       "      <td>3.49</td>\n",
       "      <td>0.38</td>\n",
       "      <td>2887.20</td>\n",
       "      <td>253</td>\n",
       "      <td>45</td>\n",
       "      <td>5</td>\n",
       "      <td>64.160000</td>\n",
       "      <td>0.0</td>\n",
       "      <td>0.32992</td>\n",
       "    </tr>\n",
       "    <tr>\n",
       "      <th>2</th>\n",
       "      <td>14.91</td>\n",
       "      <td>0.68</td>\n",
       "      <td>3342.75</td>\n",
       "      <td>335</td>\n",
       "      <td>47</td>\n",
       "      <td>5</td>\n",
       "      <td>71.122340</td>\n",
       "      <td>0.0</td>\n",
       "      <td>0.34719</td>\n",
       "    </tr>\n",
       "    <tr>\n",
       "      <th>3</th>\n",
       "      <td>0.25</td>\n",
       "      <td>0.62</td>\n",
       "      <td>2326.71</td>\n",
       "      <td>267</td>\n",
       "      <td>48</td>\n",
       "      <td>5</td>\n",
       "      <td>48.473125</td>\n",
       "      <td>1.0</td>\n",
       "      <td>0.93166</td>\n",
       "    </tr>\n",
       "    <tr>\n",
       "      <th>4</th>\n",
       "      <td>4.74</td>\n",
       "      <td>0.58</td>\n",
       "      <td>3448.59</td>\n",
       "      <td>370</td>\n",
       "      <td>49</td>\n",
       "      <td>5</td>\n",
       "      <td>70.379388</td>\n",
       "      <td>0.0</td>\n",
       "      <td>0.38490</td>\n",
       "    </tr>\n",
       "    <tr>\n",
       "      <th>...</th>\n",
       "      <td>...</td>\n",
       "      <td>...</td>\n",
       "      <td>...</td>\n",
       "      <td>...</td>\n",
       "      <td>...</td>\n",
       "      <td>...</td>\n",
       "      <td>...</td>\n",
       "      <td>...</td>\n",
       "      <td>...</td>\n",
       "    </tr>\n",
       "    <tr>\n",
       "      <th>458</th>\n",
       "      <td>400.97</td>\n",
       "      <td>0.54</td>\n",
       "      <td>4072.86</td>\n",
       "      <td>346</td>\n",
       "      <td>45</td>\n",
       "      <td>5</td>\n",
       "      <td>90.508000</td>\n",
       "      <td>0.0</td>\n",
       "      <td>0.36794</td>\n",
       "    </tr>\n",
       "    <tr>\n",
       "      <th>459</th>\n",
       "      <td>0.32</td>\n",
       "      <td>0.38</td>\n",
       "      <td>3097.99</td>\n",
       "      <td>281</td>\n",
       "      <td>51</td>\n",
       "      <td>5</td>\n",
       "      <td>60.744902</td>\n",
       "      <td>1.0</td>\n",
       "      <td>0.92925</td>\n",
       "    </tr>\n",
       "    <tr>\n",
       "      <th>460</th>\n",
       "      <td>1.62</td>\n",
       "      <td>0.63</td>\n",
       "      <td>3736.02</td>\n",
       "      <td>250</td>\n",
       "      <td>46</td>\n",
       "      <td>5</td>\n",
       "      <td>81.217826</td>\n",
       "      <td>1.0</td>\n",
       "      <td>0.67320</td>\n",
       "    </tr>\n",
       "    <tr>\n",
       "      <th>461</th>\n",
       "      <td>4.36</td>\n",
       "      <td>0.54</td>\n",
       "      <td>4407.12</td>\n",
       "      <td>354</td>\n",
       "      <td>47</td>\n",
       "      <td>5</td>\n",
       "      <td>93.768511</td>\n",
       "      <td>0.0</td>\n",
       "      <td>0.36973</td>\n",
       "    </tr>\n",
       "    <tr>\n",
       "      <th>462</th>\n",
       "      <td>1.87</td>\n",
       "      <td>0.59</td>\n",
       "      <td>3067.83</td>\n",
       "      <td>254</td>\n",
       "      <td>53</td>\n",
       "      <td>5</td>\n",
       "      <td>57.883585</td>\n",
       "      <td>1.0</td>\n",
       "      <td>0.61284</td>\n",
       "    </tr>\n",
       "  </tbody>\n",
       "</table>\n",
       "<p>463 rows × 9 columns</p>\n",
       "</div>"
      ],
      "text/plain": [
       "     distance_from_store  credit_score  total_sales  total_items  \\\n",
       "0                   4.78          0.66      3980.49          424   \n",
       "1                   3.49          0.38      2887.20          253   \n",
       "2                  14.91          0.68      3342.75          335   \n",
       "3                   0.25          0.62      2326.71          267   \n",
       "4                   4.74          0.58      3448.59          370   \n",
       "..                   ...           ...          ...          ...   \n",
       "458               400.97          0.54      4072.86          346   \n",
       "459                 0.32          0.38      3097.99          281   \n",
       "460                 1.62          0.63      3736.02          250   \n",
       "461                 4.36          0.54      4407.12          354   \n",
       "462                 1.87          0.59      3067.83          254   \n",
       "\n",
       "     transaction_count  product_area_count  average_basket_value  gender_M  \\\n",
       "0                   51                   5             78.048824       0.0   \n",
       "1                   45                   5             64.160000       0.0   \n",
       "2                   47                   5             71.122340       0.0   \n",
       "3                   48                   5             48.473125       1.0   \n",
       "4                   49                   5             70.379388       0.0   \n",
       "..                 ...                 ...                   ...       ...   \n",
       "458                 45                   5             90.508000       0.0   \n",
       "459                 51                   5             60.744902       1.0   \n",
       "460                 46                   5             81.217826       1.0   \n",
       "461                 47                   5             93.768511       0.0   \n",
       "462                 53                   5             57.883585       1.0   \n",
       "\n",
       "     loyalty_prediction  \n",
       "0               0.42641  \n",
       "1               0.32992  \n",
       "2               0.34719  \n",
       "3               0.93166  \n",
       "4               0.38490  \n",
       "..                  ...  \n",
       "458             0.36794  \n",
       "459             0.92925  \n",
       "460             0.67320  \n",
       "461             0.36973  \n",
       "462             0.61284  \n",
       "\n",
       "[463 rows x 9 columns]"
      ]
     },
     "execution_count": 75,
     "metadata": {},
     "output_type": "execute_result"
    }
   ],
   "source": [
    "loyalty_predictions_df = pd.DataFrame(loyalty_predictions)\n",
    "loyalty_predictions_df.columns = ['loyalty_prediction']\n",
    "\n",
    "scored = pd.concat([\n",
    "    to_be_scored.reset_index (drop = True),\n",
    "    loyalty_predictions_df.reset_index(drop = True)],\n",
    "    axis = 1\n",
    ")\n",
    "\n",
    "scored"
   ]
  }
 ],
 "metadata": {
  "kernelspec": {
   "display_name": "Python 3.9.12 ('base')",
   "language": "python",
   "name": "python3"
  },
  "language_info": {
   "codemirror_mode": {
    "name": "ipython",
    "version": 3
   },
   "file_extension": ".py",
   "mimetype": "text/x-python",
   "name": "python",
   "nbconvert_exporter": "python",
   "pygments_lexer": "ipython3",
   "version": "3.9.12"
  },
  "orig_nbformat": 4,
  "vscode": {
   "interpreter": {
    "hash": "778d7b6bf01a84f48b9dd46c9f746c617956e7b1189498d16978cc18ff92f546"
   }
  }
 },
 "nbformat": 4,
 "nbformat_minor": 2
}
