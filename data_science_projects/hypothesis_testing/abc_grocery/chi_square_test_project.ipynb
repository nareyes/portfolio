{
 "cells": [
  {
   "cell_type": "markdown",
   "metadata": {},
   "source": [
    "# Chi-Square Test for Independence\n",
    "*In this project we apply Chi-Square Test For Independence (a Hypothesis Test) to assess the performance of two types of mailers that were sent out to promote a new service for a simulated grocery store.*\n",
    "__________"
   ]
  },
  {
   "cell_type": "markdown",
   "metadata": {},
   "source": [
    "### **Table of Contents**\n",
    "- Concept Overview\n",
    "- Project Context\n",
    "- Project Actions\n",
    "- Data Overview & Preparation\n",
    "- Applying Chi-Square Test for Independence\n",
    "- Analyzing the Results\n",
    "__________"
   ]
  },
  {
   "cell_type": "markdown",
   "metadata": {},
   "source": [
    "## Concept Overview\n",
    "\n",
    "### A/B Testing\n",
    "An A/B Test can be described as a randomised experiment containing two groups, A & B, that receive different experiences. Within an A/B Test, we look to understand and measure the response of each group - and the information from this helps drive future business decisions.\n",
    "\n",
    "Application of A/B testing can range from testing different online ad strategies, different email subject lines when contacting customers, or testing the effect of mailing customers a coupon, vs a control group.  Companies like Amazon are running these tests in an almost never-ending cycle, testing new website features on randomised groups of customers, all with the aim of finding what works best so they can stay ahead of their competition.  Reportedly, Netflix will even test different images for the same movie or show, to different segments of their customer base to see if certain images pull more viewers in.\n",
    "\n",
    "### Hypothesis Testing\n",
    "A Hypothesis Test is used to assess the plausibility, or likelihood of an assumed viewpoint based on sample data - in other words, it helps us assess whether a certain view we have about some data is likely to be true or not.\n",
    "\n",
    "There are many different scenarios we can run Hypothesis Tests on, and they all have slightly different techniques and formulas - however they all have some shared, fundamental steps & logic that underpin how they work.\n",
    "\n",
    "**The Null Hypothesis**\n",
    "In any Hypothesis Test, we start with the Null Hypothesis. The Null Hypothesis is where we state our initial viewpoint, and in statistics, and specifically Hypothesis Testing, our initial viewpoint is always that the result is purely by chance or that there is no relationship or association between two outcomes or groups.\n",
    "\n",
    "**The Alternate Hypothesis**\n",
    "The aim of the Hypothesis Test is to look for evidence to support or reject the Null Hypothesis.  If we reject the Null Hypothesis, that would mean we’d be supporting the Alternate Hypothesis. The Alternate Hypothesis is essentially the opposite viewpoint to the Null Hypothesis - that the result is *not* by chance, or that there *is* a relationship between two outcomes or groups\n",
    "\n",
    "**The Acceptance Criteria**\n",
    "In a Hypothesis Test, before we collect any data or run any numbers - we specify an Acceptance Criteria.  This is a p-value threshold at which we’ll decide to reject or support the null hypothesis.  It is essentially a line we draw in the sand saying \"if I was to run this test many times, what proportion of those times would I want to see different results come out, in order to feel comfortable, or confident that my results are not just some unusual occurrence.\" Conventionally, we set our Acceptance Criteria to 0.05 - but this does not have to be the case.  If we need to be more confident that something did not occur through chance alone, we could lower this value down to something much smaller, meaning that we only come to the conclusion that the outcome was special or rare if it’s extremely rare.\n",
    "\n",
    "So to summarise, in a Hypothesis Test, we test the Null Hypothesis using a p-value and then decide it’s fate based on the Acceptance Criteria.\n",
    "\n",
    "**Types Of Hypothesis Test**\n",
    "There are many different types of Hypothesis Tests, each of which is appropriate for use in differing scenarios - depending on \n",
    "- the type of data that you’re looking to test and \n",
    "- the question that you’re asking of that data.\n",
    "\n",
    "In the case of our task here, where we are looking to understand the difference in sign-up *rate* between two groups - we will utilise the Chi-Square Test For Independence.\n",
    "\n",
    "### Chi-Square Test For Independence\n",
    "The Chi-Square Test For Independence is a type of Hypothesis Test that assumes observed frequencies for categorical variables will match the expected frequencies.\n",
    "\n",
    "The *assumption* is the Null Hypothesis, which as discussed above is always the viewpoint that the two groups will be equal.  With the Chi-Square Test For Independence we look to calculate a statistic which, based on the specified Acceptance Criteria will mean we either reject or support this initial assumption.\n",
    "\n",
    "The *observed frequencies* are the true values that we’ve seen.\n",
    "\n",
    "The *expected frequencies* are essentially what we would *expect* to see based on all of the data.\n",
    "\n",
    "**Note:** Another option when comparing \"rates\" is a test known as the *Z-Test For Proportions*.  While, we could absolutely use this test here, we have chosen the Chi-Square Test For Independence because:\n",
    "\n",
    "- The resulting test statistic for both tests will be the same\n",
    "- The Chi-Square Test can be represented using 2x2 tables of data - meaning it can be easier to explain to stakeholders\n",
    "- The Chi-Square Test can extend out to more than 2 groups - meaning the business can have one consistent approach to measuring signficance\n",
    "__________"
   ]
  },
  {
   "cell_type": "markdown",
   "metadata": {},
   "source": [
    "## Project Context\n",
    "\n",
    "Earlier in the year, our client, a grocery retailer, ran a campaign to promote their new \"Delivery Club\" - an initiative that costs a customer $100 per year for membership, but offers free grocery deliveries rather than the normal cost of $10 per delivery.\n",
    "\n",
    "For the campaign promoting the club, customers were put randomly into three groups - the first group received a low quality, low cost mailer, the second group received a high quality, high cost mailer, and the third group were a control group, receiving no mailer at all.\n",
    "\n",
    "The client knows that customers who were contacted, signed up for the Delivery Club at a far higher rate than the control group, but now want to understand if there is a significant difference in signup rate between the cheap mailer and the expensive mailer.  This will allow them to make more informed decisions in the future, with the overall aim of optimizing campaign ROI.\n",
    "__________"
   ]
  },
  {
   "cell_type": "markdown",
   "metadata": {},
   "source": [
    "## Project Actions\n",
    "For this test, as it is focused on comparing the *rates* of two groups - we applied the Chi-Square Test for Independence.\n",
    "\n",
    "From the *campaign_data* table in the client database, we isolated customers that received \"Mailer 1\" (low cost) and \"Mailer 2\" (high cost) for this campaign, and excluded customers who were in the control group.\n",
    "\n",
    "We set out our hypotheses and Acceptance Criteria for the test, as follows:\n",
    "- **$H_0$ :** There is no relationship between mailer type and signup rate. They are independent.\n",
    "- **$H_a$ :** There is a relationship between mailer type and signup rate. They are not independent.\n",
    "- **Acceptance Criteria:** 0.05\n",
    "\n",
    "As a requirement of the Chi-Square Test For Independence, we aggregated this data down to a 2x2 matrix for *signup_flag* by *mailer_type* and fed this into the algorithm (using the *scipy* library) to calculate the Chi-Square Statistic, P-Value, Degrees of Freedom, and Expected Values\n",
    "__________"
   ]
  },
  {
   "cell_type": "markdown",
   "metadata": {},
   "source": [
    "## Data Overview & Preparation\n",
    "In the client database, we have a *campaign_data* table which shows us which customers received each type of \"Delivery Club\" mailer, which customers were in the control group, and which customers joined the club as a result.\n",
    "\n",
    "For this task, we are looking to find evidence that the Delivery Club signup rate for customers that received \"Mailer 1\" (low cost) was different to those who received \"Mailer 2\" (high cost) and thus from the *campaign_data* table we will just extract customers in those two groups, and exclude customers who were in the control group.\n",
    "\n",
    "In the code below, we:\n",
    "- Load in the Python libraries we require for importing the data and performing the chi-square test (using scipy)\n",
    "- Import the required data from the *campaign_data* table\n",
    "- Exclude customers in the control group, giving us a dataset with Mailer 1 & Mailer 2 customers only\n",
    "\n",
    "#### **DataFrame**\n",
    "- customer_id\n",
    "- campaign_name\n",
    "- mailter_tpe\n",
    "    - Mailer1: Low Cost\n",
    "    - Mailer2: High Cost\n",
    "- signup_flag\n",
    "    - 0 False\n",
    "    - 1 True"
   ]
  },
  {
   "cell_type": "code",
   "execution_count": 1,
   "metadata": {},
   "outputs": [],
   "source": [
    "import pandas as pd\n",
    "from scipy.stats import chi2_contingency, chi2"
   ]
  },
  {
   "cell_type": "code",
   "execution_count": 2,
   "metadata": {},
   "outputs": [],
   "source": [
    "# import data\n",
    "campaign_data = pd.read_excel('data/grocery_database.xlsx', sheet_name = 'campaign_data')"
   ]
  },
  {
   "cell_type": "code",
   "execution_count": 3,
   "metadata": {},
   "outputs": [
    {
     "data": {
      "text/html": [
       "<div>\n",
       "<style scoped>\n",
       "    .dataframe tbody tr th:only-of-type {\n",
       "        vertical-align: middle;\n",
       "    }\n",
       "\n",
       "    .dataframe tbody tr th {\n",
       "        vertical-align: top;\n",
       "    }\n",
       "\n",
       "    .dataframe thead th {\n",
       "        text-align: right;\n",
       "    }\n",
       "</style>\n",
       "<table border=\"1\" class=\"dataframe\">\n",
       "  <thead>\n",
       "    <tr style=\"text-align: right;\">\n",
       "      <th></th>\n",
       "      <th>customer_id</th>\n",
       "      <th>campaign_name</th>\n",
       "      <th>campaign_date</th>\n",
       "      <th>mailer_type</th>\n",
       "      <th>signup_flag</th>\n",
       "    </tr>\n",
       "  </thead>\n",
       "  <tbody>\n",
       "    <tr>\n",
       "      <th>0</th>\n",
       "      <td>74</td>\n",
       "      <td>delivery_club</td>\n",
       "      <td>2020-07-01</td>\n",
       "      <td>Mailer1</td>\n",
       "      <td>1</td>\n",
       "    </tr>\n",
       "    <tr>\n",
       "      <th>1</th>\n",
       "      <td>524</td>\n",
       "      <td>delivery_club</td>\n",
       "      <td>2020-07-01</td>\n",
       "      <td>Mailer1</td>\n",
       "      <td>1</td>\n",
       "    </tr>\n",
       "    <tr>\n",
       "      <th>2</th>\n",
       "      <td>607</td>\n",
       "      <td>delivery_club</td>\n",
       "      <td>2020-07-01</td>\n",
       "      <td>Mailer2</td>\n",
       "      <td>1</td>\n",
       "    </tr>\n",
       "    <tr>\n",
       "      <th>3</th>\n",
       "      <td>343</td>\n",
       "      <td>delivery_club</td>\n",
       "      <td>2020-07-01</td>\n",
       "      <td>Mailer1</td>\n",
       "      <td>0</td>\n",
       "    </tr>\n",
       "    <tr>\n",
       "      <th>4</th>\n",
       "      <td>322</td>\n",
       "      <td>delivery_club</td>\n",
       "      <td>2020-07-01</td>\n",
       "      <td>Mailer2</td>\n",
       "      <td>1</td>\n",
       "    </tr>\n",
       "  </tbody>\n",
       "</table>\n",
       "</div>"
      ],
      "text/plain": [
       "   customer_id  campaign_name campaign_date mailer_type  signup_flag\n",
       "0           74  delivery_club    2020-07-01     Mailer1            1\n",
       "1          524  delivery_club    2020-07-01     Mailer1            1\n",
       "2          607  delivery_club    2020-07-01     Mailer2            1\n",
       "3          343  delivery_club    2020-07-01     Mailer1            0\n",
       "4          322  delivery_club    2020-07-01     Mailer2            1"
      ]
     },
     "execution_count": 3,
     "metadata": {},
     "output_type": "execute_result"
    }
   ],
   "source": [
    "# filter data (remove control)\n",
    "campaign_data = campaign_data.loc[campaign_data['mailer_type'] != 'Control']\n",
    "campaign_data.head(n = 5)"
   ]
  },
  {
   "cell_type": "markdown",
   "metadata": {},
   "source": [
    "_________\n",
    "## Applying Chi-Square Test for Independence\n",
    "\n",
    "#### **State Hypotheses & Acceptance Criteria For Test**\n",
    "\n",
    "The very first thing we need to do in any form of Hypothesis Test is state our Null Hypothesis, our Alternate Hypothesis, and the Acceptance Criteria (more details on these in the section above)\n",
    "\n",
    "In the code below we code these in explcitly & clearly so we can utilize them later to explain the results. We specify the common Acceptance Criteria value of 0.05."
   ]
  },
  {
   "cell_type": "code",
   "execution_count": 4,
   "metadata": {},
   "outputs": [
    {
     "name": "stdout",
     "output_type": "stream",
     "text": [
      "Null Hypothesis: There is no relationship between mailer type and signup rate. They are independent.\n",
      "Alternate Hypothesis: There is a relationship between type and signup rate. They are NOT idependent. \n",
      "\n",
      "Acceptance Criteria: 0.05\n"
     ]
    }
   ],
   "source": [
    "# state hypothesis and set acceptance criteria\n",
    "H_o = 'There is no relationship between mailer type and signup rate. They are independent.' # null\n",
    "H_a = 'There is a relationship between type and signup rate. They are NOT idependent.' # alternate\n",
    "acceptance_criteria = 0.05\n",
    "\n",
    "print(f'Null Hypothesis: {H_o}')\n",
    "print(f'Alternate Hypothesis: {H_a} \\n')\n",
    "print(f'Acceptance Criteria: {acceptance_criteria}')"
   ]
  },
  {
   "cell_type": "markdown",
   "metadata": {},
   "source": [
    "#### **Calculate Observed Frequencies & Expected Frequencies**\n",
    "\n",
    "As mentioned in the section above, in a Chi-Square Test For Independence, the *observed frequencies* are the true values that we’ve seen, in other words the actual rates per group in the data itself.  The *expected frequencies* are what we would *expect* to see based on *all* of the data combined.\n",
    "\n",
    "The below code:\n",
    "\n",
    "* Summarises our dataset to a 2x2 matrix for *signup_flag* by *mailer_type*\n",
    "* Based on this, calculates the:\n",
    "    * Chi-Square Statistic\n",
    "    * p-value\n",
    "    * Degrees of Freedom\n",
    "    * Expected Values\n",
    "* Prints out the Chi-Square Statistic, p-value, and Degrees of Freedom from the test\n",
    "* Calculates the Critical Value based upon our Acceptance Criteria & the Degrees Of Freedom\n",
    "* Prints out the Critical Value"
   ]
  },
  {
   "cell_type": "code",
   "execution_count": 5,
   "metadata": {},
   "outputs": [
    {
     "name": "stdout",
     "output_type": "stream",
     "text": [
      "Observed Values Matrix:\n",
      "[[252 123]\n",
      " [209 127]]\n",
      "\n",
      "\n",
      "Mailer 1 Sign Up Rate: 0.328\n",
      "Mailer 2 Sign Up Rate: 0.378\n"
     ]
    }
   ],
   "source": [
    "# summarize to get observed frequencies\n",
    "observed_values = pd.crosstab(campaign_data['mailer_type'], campaign_data['signup_flag']).values # returns array\n",
    "print(f\"Observed Values Matrix:\\n{observed_values}\")\n",
    "print('\\n')\n",
    "\n",
    "# calculate signup rates\n",
    "mailer1_signup_rate = 123 / (252 + 123)\n",
    "mailer2_signup_rate = 127 / (209 + 127)\n",
    "\n",
    "print(f'Mailer 1 Sign Up Rate: {round(mailer1_signup_rate, 4)}')\n",
    "print(f'Mailer 2 Sign Up Rate: {round(mailer2_signup_rate, 4)}')"
   ]
  },
  {
   "cell_type": "code",
   "execution_count": 6,
   "metadata": {},
   "outputs": [
    {
     "name": "stdout",
     "output_type": "stream",
     "text": [
      "p-value: 0.1635\n",
      "Degrees of Freedom: 1\n",
      "Chi^2 Statistic: 1.9414\n",
      "Critical Value: 3.8415\n"
     ]
    }
   ],
   "source": [
    "# calculate chi square statistic and p-value (set Yates correction to false when dof = 1)\n",
    "chi2_statistic, p_value, dof, expected_value = chi2_contingency(observed_values, correction = False)\n",
    "\n",
    "print(f'p-value: {round(p_value, 4)}')\n",
    "print(f'Degrees of Freedom: {dof}')\n",
    "print(f'Chi^2 Statistic: {round(chi2_statistic, 4)}')\n",
    "\n",
    "# find the critical value for our test (alternate way of determining test results)\n",
    "critical_value = chi2.ppf(1 - acceptance_criteria, dof)\n",
    "print(f'Critical Value: {round(critical_value, 4)}')"
   ]
  },
  {
   "cell_type": "markdown",
   "metadata": {},
   "source": [
    "Based upon our observed values, we can give this all some context with the sign-up rate of each group.  We get:\n",
    "- Mailer 1 (Low Cost): **32.8%** signup rate\n",
    "- Mailer 2 (High Cost): **37.8%** signup rate\n",
    "\n",
    "*From this, we can see that the higher cost mailer does lead to a higher signup rate.  The results from our Chi-Square Test will provide us more information about how confident we can be that this difference is robust, or if it might have occured by chance.*\n",
    "\n",
    "The Chi-Square Test gives us the following statistics:\n",
    "- Chi-Square Statistic: **1.94**\n",
    "- p-value: **0.16**\n",
    "- Critical Value: **3.84** *(Calculated Using Acceptance Critria of 0.05)*\n",
    "\n",
    "**Note** When applying the Chi-Square Test above, we use the parameter *correction = False* which means we are applying what is known as the *Yate's Correction* which is applied when your Degrees of Freedom is equal to one.  This correction helps to prevent overestimation of statistical signficance in this case.\n",
    "_________"
   ]
  },
  {
   "cell_type": "markdown",
   "metadata": {},
   "source": [
    "## Analyzing the Results\n",
    "\n",
    "At this point we have everything we need to understand the results of our Chi-Square test - and just from the results above we can see that, since our resulting **p-value of 0.16** is *GREATER* than our **Acceptance Criteria of 0.05** then we will *ACCEPT* the Null Hypothesis and conclude that there is no significant difference between the signup rates of Mailer 1 and Mailer 2.\n",
    "\n",
    "We can make the same conclusion based upon our resulting **Chi-Square Statistic of 1.94** being *LOWER* than our **Critical Value of 3.84**. We will again *ACCEPT* the Null Hypothesis.\n",
    "\n",
    "In other words - while we saw that the higher cost Mailer 2 had a higher signup rate (37.8%) than the lower cost Mailer 1 (32.8%) it appears that this difference is not significant, at least at our Acceptance Criteria of 0.05.\n",
    "\n",
    "Without running this Hypothesis Test, the client may have concluded that they should always look to go with higher cost mailers - and from what we've seen in this test, that may not be a great decision.  It would result in them spending more, but not *necessarily* gaining any extra revenue as a result\n",
    "\n",
    "Our results here also do not say that there *definitely isn't a difference between the two mailers* - we are only advising that we should not make any rigid conclusions *at this point*.  \n",
    "\n",
    "Running more A/B Tests like this, gathering more data, and then re-running this test may provide us, and the client more insight!\n",
    "\n",
    "#### **Dynamic Code**\n",
    "To make this script more dynamic, we can create code to automatically interpret the results and explain the outcome to us."
   ]
  },
  {
   "cell_type": "code",
   "execution_count": 7,
   "metadata": {},
   "outputs": [
    {
     "name": "stdout",
     "output_type": "stream",
     "text": [
      "As our p-value of 0.1635 is higher than our acceptance criteria of 0.05, we accept the null hypothesis, and conclude that: \n",
      "    There is no relationship between mailer type and signup rate. They are independent.\n",
      "    \n"
     ]
    }
   ],
   "source": [
    "# print results (using p-value)\n",
    "if p_value <= acceptance_criteria:\n",
    "    print(f'''As our p-value of {round(p_value, 4)} is lower than our acceptance criteria of {acceptance_criteria}, we reject the null hypothesis, and conclude that: \n",
    "    {H_a}.\n",
    "    ''')\n",
    "else:\n",
    "    print(f'''As our p-value of {round(p_value, 4)} is higher than our acceptance criteria of {acceptance_criteria}, we accept the null hypothesis, and conclude that: \n",
    "    {H_o}\n",
    "    ''')"
   ]
  },
  {
   "cell_type": "code",
   "execution_count": 8,
   "metadata": {},
   "outputs": [
    {
     "name": "stdout",
     "output_type": "stream",
     "text": [
      "As our chi-square statistic of 1.9414 is lower than our critical value of 3.8415, we accept the null hypothesis, and conclude that: \n",
      "    There is no relationship between mailer type and signup rate. They are independent.\n",
      "    \n"
     ]
    }
   ],
   "source": [
    "# print results (using chi-square statistic)\n",
    "if chi2_statistic >= critical_value:\n",
    "    print(f'''As our chi-square statistic of {round(chi2_statistic, 4)} is higher than our critical value of {round(critical_value, 4)}, we reject the null hypothesis, and conclude that: \n",
    "    {H_a}.\n",
    "    ''')\n",
    "else:\n",
    "    print(f'''As our chi-square statistic of {round(chi2_statistic, 4)} is lower than our critical value of {round(critical_value, 4)}, we accept the null hypothesis, and conclude that: \n",
    "    {H_o}\n",
    "    ''')"
   ]
  },
  {
   "cell_type": "markdown",
   "metadata": {},
   "source": [
    "As we can see from the outputs of these print statements, we do indeed *ACCEPT* the null hypothesis.  We could not find enough evidence that the signup rates for Mailer 1 and Mailer 2 were different - and thus conclude that there was no significant difference."
   ]
  }
 ],
 "metadata": {
  "kernelspec": {
   "display_name": "Python 3.9.12 ('base')",
   "language": "python",
   "name": "python3"
  },
  "language_info": {
   "codemirror_mode": {
    "name": "ipython",
    "version": 3
   },
   "file_extension": ".py",
   "mimetype": "text/x-python",
   "name": "python",
   "nbconvert_exporter": "python",
   "pygments_lexer": "ipython3",
   "version": "3.9.12"
  },
  "orig_nbformat": 4,
  "vscode": {
   "interpreter": {
    "hash": "778d7b6bf01a84f48b9dd46c9f746c617956e7b1189498d16978cc18ff92f546"
   }
  }
 },
 "nbformat": 4,
 "nbformat_minor": 2
}
