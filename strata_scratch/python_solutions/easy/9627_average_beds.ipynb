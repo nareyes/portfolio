{
    "metadata": {
        "kernelspec": {
            "name": "SQL",
            "display_name": "SQL",
            "language": "sql"
        },
        "language_info": {
            "name": "sql",
            "version": ""
        }
    },
    "nbformat_minor": 2,
    "nbformat": 4,
    "cells": [
        {
            "cell_type": "markdown",
            "source": [
                "Find the average number of beds in each neighborhood that has at least 3 beds in total.\r\n",
                "Output results along with the neighborhood name and sort the results based on the number of average beds in descending order.\r\n",
                "\r\n",
                "https://platform.stratascratch.com/coding/9627-3-bed-minimum?code_type=1"
            ],
            "metadata": {
                "azdata_cell_guid": "532bf655-bcc8-4670-aaf0-cdae39903fdc"
            },
            "attachments": {}
        }
    ]
}